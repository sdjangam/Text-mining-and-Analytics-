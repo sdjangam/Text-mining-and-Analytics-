{
 "cells": [
  {
   "cell_type": "code",
   "execution_count": 1,
   "metadata": {
    "collapsed": true
   },
   "outputs": [],
   "source": [
    "from IPython.core.interactiveshell import InteractiveShell\n",
    "InteractiveShell.ast_node_interactivity = \"all\"\n",
    "%matplotlib inline"
   ]
  },
  {
   "cell_type": "markdown",
   "metadata": {},
   "source": [
    "# Basic Sentiment Analysis using Naive Bayes and sentiment dictionaries"
   ]
  },
  {
   "cell_type": "code",
   "execution_count": 34,
   "metadata": {},
   "outputs": [
    {
     "name": "stdout",
     "output_type": "stream",
     "text": [
      "awesome pos\n",
      "movie, neu\n",
      "i neu\n",
      "liked pos\n",
      "it. pos\n",
      "Positive: 0.6\n",
      "Negative: 0.0\n",
      "Neutral: 0.4\n",
      "\n",
      "terrible neg\n",
      "movie neu\n",
      ", neu\n",
      "i neu\n",
      "hated neg\n",
      "it. pos\n",
      "Positive: 0.16666666666666666\n",
      "Negative: 0.3333333333333333\n",
      "Neutral: 0.5\n"
     ]
    }
   ],
   "source": [
    "import nltk.classify.util\n",
    "from nltk.classify import NaiveBayesClassifier\n",
    "from nltk.corpus import names\n",
    "\n",
    "def word_feats(words):\n",
    "    return dict([(word, True) for word in words])\n",
    " \n",
    "positive_vocab = [ 'awesome', 'outstanding', 'fantastic', 'terrific', 'good', 'nice', 'great', ':)', 'like' ]\n",
    "negative_vocab = [ 'bad', 'terrible','useless', 'hated', ':(' ]\n",
    "neutral_vocab = [ 'movie','the','sound','was','is','actors','did','know','words', 'i', 'this']\n",
    "\n",
    "#https://mpqa.cs.pitt.edu/lexicons/subj_lexicon/\n",
    "#positive_vocab = [ 'abidance','abide','abilities','ability','able','above','above-average','abound','absolve','abundant','abundance','accede','accept','acceptance','acceptable','accessible','acclaim','acclaim','acclaimed','acclamation','accolade','accolades','accommodative','accomplish','accomplishment','accomplishments','accord','accordance','accordantly','accurate','accurately','achievable','achieve','achievement','achievements','acknowledge','acknowledgement','acquit','active','acumen','adaptable','adaptability','adaptive','adept','adeptly','adequate','adherence','adherent','adhesion','admirable','admirer','admirable','admirably','admiration','admire','admiring','admiringly','admission','admission','admit','admittedly','adorable','adore','adored','adorer','adorer','adoring','adoringly','adroit','adroitly','adulate','adulation','adulatory','advanced','advantage','advantage','advantageous','advantages','advantages','adventure','adventure','adventuresome','adventurism','adventurous','advice','advice','advisable','advocate','advocacy','affable','affability','affably','affection','affection','affectionate','affinity','affirm','affirmation','affirmation','affirmative','affluent','affluence','afford','affordable','afloat','agile','agilely','agility','agree','agreeability','agreeable','agreeable','agreeableness','agreeably','agreement','agreement','allay','alleviate','allow','allowable','allure','allure','alluring','alluringly','ally','almighty','altruist','altruistic','altruistically','amaze','amazed','amazement','amazing','amazing','amazingly','ambitious','ambitious','ambitiously','ameliorate','amenable','amenity','amiability','amiabily','amiable','amicability','amicable','amicably','amity','amity','amnesty','amour','ample','amply','amuse','amusement','amusement','amusing','amusing','amusingly','angel','angelic','animated','apostle','apostle','apotheosis','apotheosis','appeal','appeal','appeal','appealing','appease','applaud','appreciable','appreciate','appreciation','appreciation','appreciative','appreciatively','appreciativeness','appropriate','approval','approve','apt','aptly','aptitude','ardent','ardently','ardor','aristocratic','arousal','arouse','arousing','arresting','articulate','ascendant','ascendant','ascertainable','ascertainable','aspiration','aspirations','aspirations','aspire','assent','assertions','assertions','assertive','asset','assiduous','assiduously','assuage','assurance','assurance','assurances','assurances','assure','assuredly','astonish','astonished','astonishing','astonishing','astonishingly','astonishment','astound','astounded','astounding','astounding','astounding','astoundingly','astute','astutely','asylum','asylum','attain','attainable','attentive','attest','attraction','attraction','attractive','attractive','attractively','attune','auspicious','authentic','authoritative','award','award','autonomous','aver','avid','avidly','awe','awe','awed','awesome','awesome','awesomely','awesomeness','awestruck','back','backbone','balanced','bargain','bargain','basic','bask','beacon','beatify','beauteous','beautiful','beautiful','beautifully','beautify','beauty','befit','befitting','befriend','believable','beloved','benefactor','beneficial','beneficent','beneficial','beneficially','beneficiary','beneficiary','benefit','benefit','benefits','benefits','benevolence','benevolent','benign','best','best-known','best-performing','best-selling','better','better','better-known','better-than-expected','blameless','bless','blessing','blessing','bliss','blissful','blissfully','blithe','bloom','blossom','boast','bold','boldly','boldness','bolster','bonny','bonus','boom','booming','boost','boost','boundless','bountiful','brains','brains','brainy','brave','brave','bravery','bravery','breakthrough','breakthrough','breakthroughs','breakthroughs','breathlessness','breathlessness','breathtaking','breathtakingly','bright','brighten','brightness','brilliance','brilliant','brilliant','brilliantly','brisk','broad','brook','brotherly','bull','bull','bullish','bullish','buoyant','calm','calm','calming','calmness','candid','candor','capable','capability','capably','capitalize','captivate','captivating','captivation','care','carefree','careful','catalyst','catalyst','catchy','celebrate','celebrated','celebration','celebratory','celebrity','champion','champion','champ','champion','charismatic','charitable','charitable','charity','charm','charm','charm','charming','charming','charmingly','chaste','cheer','cheer','cheery','cheerful','cherish','cherished','cherub','chic','chivalry','chivalrous','chum','civility','civilization','civilize','civilize','civil','clarity','classic','clean','cleanliness','cleanse','clear','clear-cut','clearer','clearer','clearly','clever','closeness','closeness','clout','clout','co-operation','co-operation','coax','coddle','cogent','cohesive','cohere','coherence','coherence','coherent','cohesion','cohesive','colorful','colossal','comeback','comeback','comely','comfort','comfortable','comfortable','comfortably','comforting','commend','commendable','commendably','commensurate','commonsense','commonsensible','commonsensibly','commonsensical','commodious','commitment','commitment','compact','compassion','compassionate','compatible','compatible','compelling','compelling','compensate','competent','competence','competency','competitive','competitive','competitiveness','complement','complement','compliant','compliant','compliment','complimentary','comprehensive','compromise','compromise','compromise','compromises','compromises','comrades','comrades','conceivable','conceivable','conciliate','conciliatory','conclusive','concrete','concur','condone','conducive','conducive','confer','confidence','confidence','confident','confute','congenial','congratulate','congratulations','congratulations','congratulatory','conquer','conscience','conscientious','consensus','consent','considerate','consistent','console','constancy','constructive','constructive','constructive','consummate','content','content','contentment','continuity','contribution','contribution','convenient','convenient','conveniently','conviction','conviction','convince','convincing','convincing','convincingly','cooperate','cooperation','cooperation','cooperative','cooperatively','cordial','cornerstone','cornerstone','correct','correct','correctly','cost-effective','cost-saving','courage','courage','courageous','courageously','courageousness','court','courteous','courtesy','courtly','covenant','cozy','crave','craving','creative','credence','credence','credible','crisp','crusade','crusade','crusader','cure-all','cure-all','curious','curiously','cute','dance','dance','dare','daring','daringly','darling','dashing','dauntless','dawn','daydream','daydreamer','dazzle','dazzled','dazzling','deal','dear','decent','decency','decisive','decisiveness','decisiveness','dedicated','defend','defender','defender','deference','defense','definite','definitely','definitive','definitive','definitively','deflationary','deft','delectable','delicacy','delicate','delicious','delight','delight','delighted','delightful','delightful','delightfully','delightfulness','democratic','demystify','dependable','deserve','deserved','deservedly','deserving','desirable','desire','desire','desire','desirous','destine','destined','destinies','destinies','destiny','determination','determination','devote','devoted','devotee','devotion','devout','dexterity','dexterous','dexterously','dextrous','dig','dignified','dignify','dignity','diligence','diligent','diligently','diplomatic','diplomatic','discerning','discreet','discreet','discretion','discriminating','discriminatingly','distinct','distinction','distinctive','distinctive','distinctive','distinguish','distinguished','diversified','divine','divine','divinely','dodge','dodge','dote','dotingly','doubtless','dream','dream','dream','dreamland','dreams','dreams','dreamy','drive','driven','durable','durability','dynamic','eager','eagerly','eagerness','earnest','earnestly','earnestness','ease','ease','easier','easiest','easily','easiness','easy','easygoing','ebullience','ebullient','ebulliently','eclectic','economical','ecstasies','ecstasy','ecstatic','ecstatically','edify','educable','educated','educational','effective','effectiveness','effectual','efficacious','efficiency','efficient','effortless','effortlessly','effusion','effusive','effusively','effusiveness','egalitarian','elan','elate','elated','elatedly','elation','electrification','electrification','electrify','elegance','elegant','elegantly','elevate','elevated','eligible','elite','eloquence','eloquent','eloquently','emancipate','embellish','embolden','embrace','eminence','eminent','empower','empowerment','enable','enchant','enchanted','enchanting','enchantingly','encourage','encouragement','encouragement','encouraging','encouraging','encouragingly','endear','endearing','endorse','endorsement','endorsement','endorser','endurable','endure','enduring','energetic','energetic','energize','engaging','engrossing','enhance','enhanced','enhancement','enjoy','enjoyable','enjoyably','enjoyment','enlighten','enlightenment','enliven','ennoble','enrapt','enrapture','enraptured','enrich','enrichment','ensure','enterprising','entertain','entertaining','enthral','enthrall','enthralled','enthuse','enthusiasm','enthusiast','enthusiastic','enthusiastically','entice','enticing','enticingly','entrance','entranced','entrancing','entreat','entreatingly','entrust','enviable','enviably','envision','envisions','envisions','epic','epitome','equality','equality','equitable','erudite','essential','especially','esteem','esteem','established','eternity','eternity','ethical','eulogize','euphoria','euphoric','euphorically','even','evenly','eventful','everlasting','evident','evidently','evocative','exalt','exalt','exaltation','exalted','exaltedly','exalting','exaltingly','exceed','exceeding','exceedingly','excel','excellence','excellency','excellent','excellently','exceptional','exceptionally','excite','excited','excitedly','excitedness','excitement','exciting','excitingly','exclusive','excusable','excusable','excuse','exemplar','exemplary','exhaustive','exhaustively','exhilarate','exhilarating','exhilaratingly','exhilaration','exonerate','expansive','experienced','expert','expertly','explicit','explicitly','expressive','exquisite','exquisitely','extol','extoll','extraordinarily','extraordinary','exuberance','exuberant','exuberantly','exult','exultation','exultingly','fabulous','fabulously','facilitate','fair','fair','fairly','fairness','fairness','faith','faith','faithful','faithful','faithfully','faithfulness','famed','fame','famed','famous','famously','fancy','fancy','fanfare','fanfare','fantastic','fantastically','fantasy','fantasy','farsighted','fascinate','fascinating','fascinatingly','fascination','fashionable','fashionably','fast-growing','fast-paced','fastest-growing','fathom','favor','favor','favor','favorable','favorable','favored','favorite','favour','fearless','fearlessly','feasible','feasibly','feat','featly','feisty','feisty','felicitate','felicitous','felicity','fertile','fertile','fervent','fervently','fervid','fervidly','fervor','festive','fidelity','fiery','fine','finely','first-class','first-rate','fit','fitting','flair','flame','flame','flatter','flattering','flatteringly','flawless','flawlessly','flexible','flourish','flourishing','fluent','fond','fondly','fondness','foolproof','foremost','foresight','forgave','forgive','forgiven','forgiveness','forgiving','forgivingly','fortitude','fortuitous','fortuitously','fortunate','fortunate','fortunately','fortune','fortune','fragrant','frank','free','freedom','freedom','freedoms','freedoms','fresh','friend','friend','friendliness','friendliness','friendly','friends','friends','friendship','friendship','frolic','fruitful','fulfillment','fulfillment','full-fledged','fun','functional','funny','funny','gaiety','gaily','gain','gain','gainful','gainfully','gallant','gallantly','galore','gem','gem','gems','gems','generosity','generous','generously','genial','genius','gentle','genuine','germane','giddy','gifted','glad','gladden','gladly','gladness','glamorous','glee','gleeful','gleefully','glimmer','glimmer','glimmer','glimmering','glisten','glisten','glistening','glitter','glitter','glorify','glorious','gloriously','glory','glory','glossy','glow','glowing','glowingly','go-ahead','go-ahead','god-given','godlike','gold','golden','good','goodly','goodness','goodwill','goodwill','gorgeous','gorgeously','grace','graceful','gracefully','gracious','graciously','graciousness','grail','grail','grand','grandeur','grateful','grateful','gratefully','gratification','gratify','gratifying','gratifyingly','gratitude','gratitude','great','greatest','greatness','greet','grin','grit','grit','groove','groundbreaking','groundbreaking','guarantee','guarantee','guardian','guidance','guidance','guiltless','gush','gumption','gusto','gutsy','hail','halcyon','hale','hallowed','handily','handsome','handy','hanker','happily','happiness','happy','hard-working','hardier','hardier','hardy','harmless','harmonious','harmoniously','harmonize','harmony','harmony','haven','headway','heady','heal','healthful','healthy','healthy','heart','hearten','heartening','heartfelt','heartily','heartwarming','heaven','heavenly','help','help','help','helpful','herald','hero','heroic','heroic','heroically','heroine','heroize','heros','high-quality','highlight','highlight','hilarious','hilariously','hilariousness','hilarity','historic','holy','homage','honest','honest','honestly','honesty','honesty','honeymoon','honor','honor','honor','honorable','hope','hope','hope','hopeful','hopefully','hopefulness','hopes','hopes','hospitable','hot','hug','hug','humane','humane','humanists','humanists','humanity','humankind','humble','humility','humor','humorous','humorously','humour','humour','humourous','ideal','ideal','idealism','idealist','idealize','ideally','idol','idol','idolize','idolized','idyllic','illuminate','illuminati','illuminati','illuminating','illumine','illustrious','imaginative','immaculate','immaculately','impartial','impartiality','impartially','impassioned','impeccable','impeccably','impel','imperial','imperturbable','impervious','impetus','importance','important','importantly','impregnable','impress','impression','impression','impressions','impressions','impressive','impressively','impressiveness','improving','improve','improved','improvement','improvise','inalienable','incisive','incisively','incisiveness','inclination','inclination','inclinations','inclined','inclusive','incontestable','incontrovertible','incorruptible','incredible','incredibly','indebted','indefatigable','indelible','indelibly','independence','independence','independent','indescribable','indescribably','indestructible','indispensable','indispensability','indisputable','individuality','indomitable','indomitably','indubitable','indubitably','indulgence','indulgent','industrious','inestimable','inestimably','inexpensive','infallible','infallibly','infallibility','influential','informative','ingenious','ingeniously','ingenuity','ingenuous','ingenuously','ingratiate','ingratiating','ingratiatingly','innocence','innocence','innocent','innocently','innocuous','innocuous','innovation','innovation','innovative','inoffensive','inquisitive','insight','insight','insightful','insightfully','insist','insistence','insistence','insistent','insistently','inspiration','inspirational','inspire','inspiring','inspiring','instructive','instrumental','intact','integral','integrity','intelligent','intelligence','intelligible','intercede','interest','interest','interest','interested','interesting','interests','interests','intimacy','intimacy','intimate','intricate','intrigue','intrigue','intriguing','intriguing','intriguingly','intuitive','invaluable','invaluablely','inventive','invigorate','invigorating','invincibility','invincible','inviolable','inviolate','invulnerable','irrefutable','irrefutably','irreproachable','irresistible','irresistibly','jauntily','jaunty','jest','joke','joke','jollify','jolly','jovial','joy','joyful','joyfully','joyless','joyous','joyously','jubilant','jubilantly','jubilate','jubilation','jubilation','judicious','just','just','just','justice','justice','justifiable','justifiably','justification','justify','justly','keen','keenly','keenness','keenness','kemp','kid','kind','kindly','kindliness','kindness','kingmaker','kiss','kiss','knowledgeable','large','large','lark','laud','laudable','laudably','lavish','lavish','lavishly','law-abiding','lawful','lawfully','leading','lean','lean','learning','learned','legendary','legitimacy','legitimate','legitimately','lenient','leniently','less-expensive','leverage','leverage','levity','liberal','liberation','liberation','liberalism','liberally','liberate','liberty','lifeblood','lifelong','light','light','light-hearted','lighten','likable','like','liking','lionhearted','literate','live','lively','lofty','logical','lovable','lovably','love','love','loveliness','lover','lovely','lovely','low-cost','low-risk','lower-priced','loyal','loyalty','loyalty','lucid','lucidly','luck','luckier','luckier','luckiest','luckily','luckiness','lucky','lucky','lucrative','lucrative','luminous','lush','luster','lustrous','luxuriant','luxuriate','luxurious','luxuriously','luxury','luxury','lyrical','magic','magical','magnanimous','magnanimously','magnetic','magnificence','magnificent','magnificent','magnificently','magnify','majestic','majesty','manageable','manifest','manly','mannerly','marvel','marvel','marvellous','marvelous','marvelous','marvelously','marvelousness','marvels','master','master','masterful','masterfully','masterpiece','masterpieces','masters','masters','mastery','matchless','mature','maturely','maturity','maximize','meaningful','meek','mellow','memorable','memorialize','mend','mentor','merciful','mercifully','mercy','mercy','merit','merit','meritorious','merrily','merriment','merriness','merry','mesmerize','mesmerizing','mesmerizing','mesmerizingly','meticulous','meticulously','might','mightily','mighty','mild','mindful','minister','miracle','miracles','miraculous','miraculously','miraculousness','mirth','moderate','moderation','moderation','modern','modest','modesty','mollify','momentous','monumental','monumentally','moral','moral','morality','moralize','motivate','motivated','motivation','motivation','moving','myriad','natural','naturally','navigable','neat','neatly','necessarily','necessary','neutralize','nice','nicely','nifty','nimble','noble','nobly','non-violence','non-violent','normal','notable','notable','notably','noteworthy','noteworthy','noticeable','novel','nourish','nourishing','nourishment','nurture','nurturing','nurturing','oasis','obedience','obedient','obediently','obey','objective','objectively','obliged','obviate','offbeat','offset','okay','okay','onward','onward','open','openly','openness','openness','opportune','opportunity','optimal','optimism','optimistic','opulent','orderly','original','originality','outdo','outgoing','outshine','outsmart','outstanding','outstandingly','outstrip','outwit','ovation','ovation','overachiever','overjoyed','overture','overture','pacifist','pacifists','pacifists','painless','painlessly','painstaking','painstakingly','palatable','palatial','palliate','pamper','paradise','paramount','pardon','passion','passionate','passionately','patience','patient','patient','patient','patiently','patriot','patriotic','peace','peace','peaceable','peaceful','peaceful','peacefully','peacekeepers','peacekeepers','peerless','penetrating','penitent','perceptive','perfect','perfect','perfect','perfection','perfectly','permissible','perseverance','persevere','persistent','persistent','personages','personages','personality','personality','perspicuous','perspicuously','persuade','persuasive','persuasive','persuasively','pertinent','phenomenal','phenomenally','picturesque','piety','pillar','pillar','pinnacle','pious','pithy','pithy','placate','placid','plain','plainly','plausibility','plausible','playful','playfully','pleasant','pleasantly','please','pleased','pleasing','pleasingly','pleasurable','pleasurably','pleasure','pleasure','pledge','pledge','pledges','pledges','plentiful','plenty','plush','poetic','poeticize','poignant','poise','poised','polished','polite','politeness','popular','popular','popularity','popularity','portable','posh','positive','positiveness','positively','posterity','potent','potential','potential','powerful','powerfully','practicable','practical','pragmatic','praise','praise','praiseworthy','praising','praising','pre-eminent','preach','preaching','preaching','precaution','precautions','precedent','precious','precious','precise','precisely','precision','preeminent','preemptive','prefer','preferable','preferable','preferably','preference','preferences','preferences','premier','premium','prepared','preponderance','preponderance','press','prestige','prestigious','prettily','pretty','priceless','pride','principle','principle','principled','privilege','privileged','prize','pro','pro-American','pro-American','pro-Beijing','pro-Beijing','pro-Cuba','pro-Cuba','pro-peace','pro-peace','proactive','proactive','prodigious','prodigiously','prodigy','productive','profess','proficient','proficiently','profit','profit','profitable','profound','profoundly','profuse','profusely','profusion','progress','progress','progressive','prolific','prominent','prominence','promise','promise','promising','promoter','promoter','prompt','promptly','proper','properly','propitious','propitiously','prospect','prospect','prospects','prospects','prosper','prosperity','prosperity','prosperous','protect','protection','protective','protector','protector','proud','providence','prowess','prudence','prudence','prudent','prudently','punctual','pundits','pundits','pure','purification','purify','purity','purposeful','quaint','qualified','qualify','qualify','quasi-ally','quasi-ally','quench','quicken','radiance','radiant','rally','rapprochement','rapprochement','rapport','rapt','rapture','rapture','raptureous','raptureously','rapturous','rapturously','rational','rationality','rationality','rave','re-conquest','re-conquest','readily','ready','reaffirm','reaffirmation','reaffirmation','real','realist','realistic','realistically','reason','reasonable','reasonably','reasoned','reassurance','reassurance','reassure','receptive','reclaim','recognition','recognition','recommend','recommendation','recommendations','recommendations','recommended','recompense','recompense','reconcile','reconciliation','reconciliation','record-setting','recover','rectification','rectification','rectify','rectifying','rectifying','redeem','redeeming','redemption','reestablish','refine','refined','refinement','reform','reform','refresh','refreshing','refuge','regal','regally','regard','rehabilitate','rehabilitation','reinforce','reinforcement','rejoice','rejoicing','rejoicingly','relax','relaxed','relent','relevant','relevance','reliable','reliability','reliably','relief','relief','relieve','relish','remarkable','remarkable','remarkably','remedy','reminiscent','reminiscent','remunerate','renaissance','renewal','renovate','renovation','renown','renowned','repair','repair','reparation','repay','repent','repentance','reputable','rescue','rescue','resilient','resolute','resolve','resolve','resolve','resolved','resound','resounding','resourceful','resourcefulness','respect','respect','respect','respectable','respectful','respectfully','respite','resplendent','responsibility','responsible','responsibly','responsive','restful','restoration','restore','restraint','restraint','resurgent','reunite','revel','revel','revel','revelation','revelation','revere','reverence','reverent','reverently','revival','revive','revitalize','revolution','revolution','reward','rewarding','rewardingly','rich','riches','richly','richness','right','right','right','righten','righteous','righteously','righteousness','rightful','rightfully','rightly','rightness','rightness','rights','rights','ripe','risk-free','robust','romantic','romantically','romanticize','rosy','rousing','sacred','safe','safeguard','sagacity','sage','sagely','saint','saintliness','saintly','salable','salivate','salutary','salute','salvation','sanctify','sanction','sanctity','sanctuary','sanctuary','sanguine','sane','sanity','sanity','satisfaction','satisfaction','satisfactorily','satisfactory','satisfy','satisfying','savor','savvy','scenic','scruples','scrupulous','scrupulously','seamless','seasoned','secure','securely','security','security','seductive','selective','self-determination','self-determination','self-respect','self-satisfaction','self-satisfaction','self-sufficiency','self-sufficiency','self-sufficient','semblance','sensation','sensation','sensational','sensationally','sensations','sensations','sense','sense','sense','sensible','sensibly','sensitive','sensitive','sensitively','sensitivity','sensitivity','sentiment','sentiment','sentimentality','sentimentally','sentiments','serene','serenity','settle','sexy','shelter','shelter','shield','shimmer','shimmering','shimmeringly','shine','shiny','shiny','shrewd','shrewdly','shrewdness','significant','significance','signify','simple','simplicity','simplified','simplify','sincere','sincerely','sincerity','sincerity','skill','skilled','skillful','skillful','skillfully','sleek','slender','slim','slim','smart','smart','smarter','smartest','smartly','smile','smile','smiling','smilingly','smitten','smooth','sociable','soft-spoken','soften','soften','soften','solace','solicitous','solicitously','solicitude','solid','solid','solidarity','solidarity','soothe','soothingly','sophisticated','sound','soundness','spacious','spare','sparing','sparingly','sparkle','sparkling','special','spectacular','spectacularly','speedy','spellbind','spellbinding','spellbindingly','spellbound','spirit','spirit','spirited','spiritual','spiritual','splendid','splendidly','splendor','spotless','sprightly','spur','squarely','stability','stability','stabilize','stable','stable','stainless','stand','star','star','stars','stars','stately','statuesque','staunch','staunchly','staunchness','steadfast','steadfastly','steadfastness','steadiness','steady','stellar','stellarly','stimulate','stimulating','stimulative','stirring','stirringly','stood','straight','straightforward','streamlined','stride','stride','strides','strides','striking','strikingly','striving','striving','strong','studious','studiously','stunned','stunning','stunningly','stupendous','stupendously','sturdy','stylish','stylishly','suave','sublime','subscribe','substantial','substantially','substantive','subtle','succeed','success','success','successful','successfully','suffice','sufficient','sufficiently','suggest','suggestions','suggestions','suit','suitable','sumptuous','sumptuously','sumptuousness','sunny','super','superb','superbly','superior','superlative','support','support','support','supporter','supporter','supportive','supportive','supreme','supremely','supurb','supurbly','sure','surely','surge','surging','surmise','surmount','surpass','survival','survive','survivor','sustainability','sustainability','sustainable','sustainable','sustained','sweeping','sweet','sweeten','sweetheart','sweetly','sweetness','swift','swiftness','sworn','tact','talent','talent','talented','tantalize','tantalizing','tantalizingly','taste','temperance','temperate','tempt','tempting','temptingly','tenacious','tenaciously','tenacity','tender','tenderly','tenderness','terrific','terrific','terrifically','terrified','terrify','terrifying','terrifying','terrifyingly','thank','thankful','thankfully','thinkable','thinkable','thorough','thoughtful','thoughtfully','thoughtfulness','thrift','thrifty','thrill','thrill','thrilling','thrillingly','thrills','thrive','thriving','tickle','tidy','time-honored','timely','tingle','titillate','titillating','titillatingly','toast','togetherness','tolerable','tolerably','tolerance','tolerance','tolerant','tolerantly','tolerate','toleration','top','torrid','torridly','tradition','traditional','tranquil','tranquility','tranquility','treasure','treat','tremendous','tremendously','trendy','trepidation','tribute','trim','triumph','triumph','triumphal','triumphant','triumphant','triumphantly','truculent','truculently','true','truly','trump','trumpet','trust','trust','trust','trusting','trustingly','trustworthiness','trustworthy','truth','truthful','truthfully','truthfulness','twinkly','ultimate','ultimately','ultra','unabashed','unabashedly','unanimous','unassailable','unassailable','unbiased','unbosom','unbound','unbroken','uncommon','uncommonly','unconcerned','unconditional','unconventional','undaunted','understand','understandable','understanding','understanding','understood','understate','understated','understatedly','undisputable','undisputably','undisputed','undoubted','undoubtedly','unencumbered','unequivocal','unequivocal','unequivocally','unfazed','unfettered','unforgettable','uniform','uniformly','unique','unity','unity','universal','unlimited','unparalleled','unpretentious','unquestionable','unquestionably','unrestricted','unscathed','unselfish','untouched','untrained','upbeat','upfront','upgrade','upheld','uphold','uplift','uplifting','upliftingly','upliftment','upliftment','upright','upscale','upside','upside','upward','urge','usable','useful','usefulness','utilitarian','utmost','uttermost','valiant','valiantly','valid','validity','valor','valuable','valuable','value','values','values','vanquish','vast','vastly','vastness','venerable','venerably','venerate','verifiable','veritable','versatile','versatility','viable','viability','vibrant','vibrantly','victorious','victory','victory','vigilance','vigilant','vigilant','vigorous','vigorously','vindicate','vintage','virtue','virtuous','virtuously','visionary','vital','vitality','vitality','vivacious','vivid','voluntarily','voluntary','vouch','vouchsafe','vow','vulnerable','vulnerable','want','warm','warmhearted','warmly','warmth','wealthy','welcome','welcome','welcome','welcome','welfare','welfare','well','well','well-being','well-being','well-connected','well-educated','well-established','well-informed','well-intentioned','well-managed','well-positioned','well-publicized','well-received','well-regarded','well-run','well-wishers','well-wishers','wellbeing','wellbeing','whimsical','white','wholeheartedly','wholesome','wide','wide-open','wide-ranging','will','will','willful','willfully','willing','willingness','willingness','wink','wink','winnable','winnable','winners','winners','wisdom','wisdom','wise','wise','wisely','wish','wish','wish','wishes','wishes','wishing','wishing','witty','wonder','wonderful','wonderful','wonderfully','wonderous','wonderously','wondrous','woo','workable','world-famous','worship','worth','worth','worth-while','worthiness','worthwhile','worthy','wow','wow','wry','yearn','yearning','yearningly','yep','yes','youthful','zeal','zenith','zest' ]\n",
    "#negative_vocab = [ 'abandoned','abandonment','abandon','abase','abasement','abash','abate','abdicate','aberration','aberration','abhor','abhor','abhorred','abhorrence','abhorrent','abhorrently','abhors','abhors','abject','abjectly','abjure','abnormal','abolish','abominable','abominably','abominate','abomination','abrade','abrasive','abrupt','abscond','absence','absentee','absent-minded','absurd','absurdity','absurdly','absurdness','abuse','abuse','abuse','abuses','abuses','abusive','abysmal','abysmally','abyss','accidental','accost','accountable','accursed','accusation','accusation','accusations','accusations','accuse','accuses','accusing','accusingly','acerbate','acerbic','acerbically','ache','acrid','acridly','acridness','acrimonious','acrimoniously','acrimony','adamant','adamantly','addict','addiction','admonish','admonisher','admonishingly','admonishment','admonition','adrift','adulterate','adulterated','adulteration','adversarial','adversary','adverse','adversity','affectation','afflict','affliction','afflictive','affront','affront','afraid','against','aggravate','aggravating','aggravation','aggression','aggression','aggressive','aggressiveness','aggressor','aggrieve','aggrieved','aghast','agitate','agitated','agitation','agitator','agonies','agonize','agonizing','agonizing','agonizingly','agony','ail','ail','ailment','aimless','airs','airs','alarm','alarm','alarmed','alarming','alarmingly','alas','alienate','alienated','alienation','allegation','allegations','allege','allegations','allergic','aloof','altercation','although','ambiguous','ambiguity','ambivalence','ambivalent','ambivalent','ambush','ambush','amiss','amputate','anarchism','anarchist','anarchistic','anarchy','anemic','anger','anger','anger','angrily','angriness','angry','anguish','anguish','annihilate','annihilation','animosity','annoy','annoyance','annoyed','annoying','annoying','annoyingly','anomalous','anomaly','antagonism','antagonist','antagonistic','antagonize','anti-','anti-American','anti-American','anti-Israeli','anti-Israeli','anti-Semites','anti-Semites','anti-US','anti-US','anti-occupation','anti-occupation','anti-proliferation','anti-proliferation','anti-social','anti-white','anti-white','antipathy','antiquated','antithetical','antithetical','anxieties','anxiety','anxious','anxiously','anxiousness','apathetic','apathetic','apathetically','apathy','ape','apocalypse','apocalyptic','apologist','apologist','apologists','apologists','appal','appall','appall','appall','appalled','appalling','appallingly','apprehension','apprehensions','apprehensions','apprehensive','apprehensive','apprehensively','arbitrary','arcane','archaic','arduous','arduously','argue','argument','argument','argumentative','arguments','arguments','arrogance','arrogant','arrogant','arrogantly','arrogantly','artificial','ashamed','asinine','asininely','asinininity','askance','asperse','aspersion','aspersions','assail','assassinate','assassin','assault','assault','astray','asunder','atrocious','atrocities','atrocity','atrophy','attack','attack','audacious','audaciously','audaciousness','audacity','austere','authoritarian','autocrat','autocratic','autocratic','autocratic','avalanche','avalanche','avarice','avaricious','avariciously','avenge','averse','aversion','avoid','avoidance','awful','awful','awfully','awfulness','awfulness','awkward','awkwardness','ax','babble','backbite','backbiting','backward','backwardness','bad','badly','baffle','baffled','bafflement','baffling','bait','balk','banal','banal','banalize','bane','banish','banish','banishment','bankrupt','bankrupt','bar','barbarian','barbarian','barbaric','barbarically','barbarity','barbarity','barbarous','barbarous','barbarously','barely','barren','baseless','bashful','bastard','bastard','battered','battering','battering','battle','battle-lines','battle-lines','battlefield','battleground','battleground','batty','bearish','beast','beast','beastly','bedlam','bedlamite','befoul','beg','beggar','beggarly','begging','begging','beguile','belated','belabor','beleaguer','belie','belittle','belittled','belittling','bellicose','bellicose','belligerence','belligerent','belligerent','belligerently','bemoan','bemoaning','bemused','bent','berate','bereave','bereavement','bereft','berserk','beseech','beset','besiege','besmirch','bestial','betray','betrayal','betrayals','betrayer','bewail','beware','bewilder','bewildered','bewildering','bewildering','bewilderingly','bewilderment','bewitch','bias','bias','bias','biased','biased','biases','biases','bicker','bickering','bid-rigging','bitch','bitchy','biting','bitingly','bitter','bitterly','bitterness','bizarre','blab','blabber','black','blackmail','blah','blame','blame','blame','blameworthy','bland','blandish','blaspheme','blasphemous','blasphemous','blasphemy','blast','blasted','blatant','blatantly','blather','bleak','bleakly','bleakness','bleed','blemish','blemish','blind','blinding','blinding','blindingly','blindness','blindside','blister','blistering','bloated','block','block','blockhead','blood','bloodshed','bloodthirsty','bloody','blow','blow','blunder','blunder','blundering','blunders','blunt','blur','blurt','boast','boastful','boggle','bogus','boil','boiling','boisterous','bombard','bomb','bombardment','bombardment','bombastic','bondage','bonkers','bonkers','bore','boredom','boring','boring','botch','bother','bother','bothersome','bowdlerize','boycott','boycott','braggart','braggart','bragger','bragger','brainwash','brash','brashly','brashness','brat','bravado','brazen','brazenly','brazenly','brazenness','brazenness','breach','breach','break','break-point','break-point','breakdown','brimstone','brimstone','bristle','brittle','broke','broken-hearted','brood','browbeat','bruise','brusque','brutal','brutalising','brutalising','brutalities','brutalities','brutality','brutalize','brutalizing','brutally','brute','brutish','bug','buckle','bulky','bullies','bullies','bully','bully','bullyingly','bum','bumpy','bungle','bungler','bunk','burden','burden','burdensome','burdensome','burdensomely','burn','busy','busybody','butcher','butchery','byzantine','cackle','cajole','calamities','calamitous','calamitously','calamity','calamity','callous','calumniate','calumniation','calumnies','calumnious','calumniously','calumny','cancer','cancerous','cannibal','cannibalize','capitulate','capricious','capriciously','capriciousness','capsize','captive','careless','carelessness','caricature','carnage','carp','cartoon','cartoon','cartoonish','cash-strapped','castigate','casualty','cataclysm','cataclysmal','cataclysmic','cataclysmically','catastrophe','catastrophe','catastrophes','catastrophic','catastrophic','catastrophically','caustic','caustically','cautionary','cautious','cave','censure','censure','censure','chafe','chaff','chagrin','chagrin','challenge','challenge','challenging','chaos','chaotic','charisma','chasten','chastise','chastisement','chatter','chatterbox','cheapen','cheap','cheat','cheat','cheater','cheerless','chide','childish','chill','chilly','chit','choppy','choke','chore','chronic','clamor','clamorous','clash','clash','cliche','cliched','clique','clog','close','cloud','clumsy','coarse','cocky','coerce','coercion','coercive','cold','coldly','collapse','collapse','collide','collude','collusion','combative','comedy','comedy','comical','commiserate','commonplace','commotion','commotion','compel','complacent','complacent','complain','complaining','complaining','complaint','complaints','complaints','complex','complicate','complicated','complication','complicit','compulsion','compulsive','compulsory','concede','conceit','conceited','concern','concern','concern','concerned','concerns','concerns','concession','concession','concessions','concessions','condescend','condescending','condescendingly','condescension','condemn','condemn','condemnable','condemnation','condolence','condolences','condolences','confess','confession','confessions','confessions','conflict','conflict','confound','confound','confounded','confounding','confront','confrontation','confrontation','confrontational','confuse','confused','confusing','confusing','confusion','confusion','congested','congestion','conspicuous','conspicuous','conspicuously','conspiracies','conspiracies','conspiracy','conspiracy','conspirator','conspirator','conspiratorial','conspire','consternation','constrain','constraint','consume','contagious','contaminate','contamination','contempt','contemptible','contemptuous','contemptuously','contend','contention','contentious','contentious','contort','contortions','contortions','contradict','contradiction','contradictory','contrariness','contrary','contravene','contrive','contrived','controversial','controversial','controversy','controversy','convoluted','coping','coping','corrode','corrosion','corrosive','corrupt','corrupt','corruption','costly','counterproductive','coupists','coupists','covetous','covetous','cow','coward','cowardly','crackdown','crackdown','crafty','cramped','cranky','crass','craven','cravenly','craze','crazily','craziness','crazy','credulous','crime','criminal','cringe','cripple','crippling','crisis','crisis','critic','critical','criticism','criticism','criticisms','criticisms','criticize','critics','critics','crook','crooked','cross','crowded','crude','cruel','cruelties','cruelty','crumble','crumple','crush','crushing','cry','culpable','cuplrit','cumbersome','curse','curse','cursed','cursed','curses','cursory','curt','cuss','cut','cutthroat','cynical','cynicism','damage','damage','damaging','damn','damn','damn','damnable','damnably','damnation','damned','damning','danger','danger','dangerous','dangerousness','dangerousness','dangle','dark','darken','darkness','darn','dash','dastard','dastardly','daunt','daunting','dauntingly','dawdle','daze','dazed','dead','deadbeat','deadlock','deadlock','deadly','deadweight','deaf','dearth','death','debacle','debase','debasement','debaser','debatable','debate','debauch','debaucher','debauchery','debilitate','debilitating','debility','decadence','decadent','decay','decay','decayed','deceit','deceitful','deceitfully','deceitfulness','deceiving','deceive','deceiver','deceivers','deception','deception','deceptive','deceptive','deceptively','declaim','decline','decline','declining','decrease','decrease','decreasing','decrement','decrepit','decrepitude','decry','deep','deepening','deepening','defamation','defamations','defamatory','defame','defeat','defeat','defect','defective','defensive','defiance','defiance','defiant','defiantly','deficiency','deficient','defile','defiler','deform','deformed','defrauding','defrauding','defunct','defy','degenerate','degenerate','degenerately','degeneration','degradation','degrade','degrading','degradingly','dehumanization','dehumanize','deign','deject','dejected','dejectedly','dejection','delinquency','delinquent','delirious','delirium','delude','deluded','deluge','delusion','delusion','delusional','delusional','delusions','delusions','demean','demeaning','demise','demolish','demolisher','demon','demonic','demonize','demonize','demoralize','demoralizing','demoralizingly','denial','denigrate','deny','denounce','denunciate','denunciation','denunciations','deplete','deplorable','deplorable','deplorably','deplore','deploring','deploringly','deprave','depraved','depravedly','deprecate','depress','depressed','depressing','depressing','depressingly','depression','depression','deprive','deprived','deride','derision','derisive','derisively','derisiveness','derogatory','desecrate','desert','desertion','desiccate','desiccated','desolate','desolately','desolation','despair','despair','despairing','despairingly','desperate','desperately','desperation','despicable','despicably','despise','despised','despised','despite','despoil','despoiler','despondence','despondency','despondent','despondently','despot','despotic','despotism','despotism','destabilisation','destabilisation','destitute','destitution','destroy','destroyer','destroyer','destruction','destructive','desultory','deter','deteriorate','deteriorating','deteriorating','deterioration','deterrent','detest','detestable','detestably','detract','detraction','detriment','detrimental','devastate','devastated','devastating','devastatingly','devastation','deviate','deviate','deviate','deviation','devil','devilish','devilishly','devilment','devilry','devious','deviously','deviousness','devoid','diabolic','diabolical','diabolically','diametrically','diatribe','diatribes','dictator','dictatorial','differ','difficult','difficulties','difficulties','difficulty','difficulty','diffidence','diffidence','dig','digress','dilapidated','dilemma','dilemma','dilly-dally','dim','dim','diminish','diminishing','din','dinky','dire','direly','direness','dirt','dirty','dirty','disable','disabled','disaccord','disadvantage','disadvantaged','disadvantageous','disadvantageous','disaffect','disaffected','disaffirm','disagree','disagreeable','disagreeably','disagreement','disagreement','disallow','disappoint','disappointed','disappointing','disappointingly','disappointment','disappointment','disapprobation','disapproval','disapproval','disapprove','disapproving','disarm','disarray','disarray','disaster','disastrous','disastrously','disavow','disavowal','disbelief','disbelieve','disbeliever','disclaim','discombobulate','discomfit','discomfititure','discomfort','discompose','disconcert','disconcerted','disconcerting','disconcertingly','disconsolate','disconsolately','disconsolation','discontent','discontent','discontented','discontentedly','discontinuity','discontinuity','discord','discordance','discordant','discountenance','discourage','discouragement','discouraging','discouragingly','discourteous','discourteously','discredit','discrepant','discriminate','discrimination','discrimination','discriminatory','disdain','disdain','disdainful','disdainfully','disease','diseased','disfavor','disgrace','disgrace','disgraced','disgraceful','disgracefully','disgruntle','disgruntled','disgust','disgust','disgusted','disgustedly','disgustful','disgustfully','disgusting','disgustingly','dishearten','disheartening','dishearteningly','dishonest','dishonest','dishonestly','dishonesty','dishonor','dishonor','dishonorable','dishonorablely','disillusion','disillusion','disillusioned','disinclination','disinclined','disingenuous','disingenuously','disintegrate','disinterested','disintegration','disinterest','disinterested','dislike','dislocated','disloyal','disloyal','disloyalty','dismal','dismally','dismalness','dismay','dismay','dismayed','dismaying','dismayingly','dismissive','dismissive','dismissively','disobedience','disobedient','disobey','disown','disorder','disorder','disordered','disorderly','disorganized','disorient','disoriented','disown','disparage','disparaging','disparagingly','dispensable','dispirit','dispirited','dispiritedly','dispiriting','displace','displaced','displease','displeasing','displeasure','displeasure','disproportionate','disprove','disputable','dispute','dispute','disputed','disquiet','disquieting','disquietingly','disquietude','disregard','disregard','disregardful','disreputable','disrepute','disrespect','disrespectable','disrespectablity','disrespectful','disrespectfully','disrespectfulness','disrespecting','disrespecting','disrupt','disruption','disruption','disruptive','dissatisfaction','dissatisfaction','dissatisfactory','dissatisfied','dissatisfy','dissatisfying','dissemble','dissembler','dissension','dissent','dissent','dissenter','dissention','disservice','disservice','dissidence','dissident','dissident','dissidents','dissidents','dissocial','dissolute','dissolution','dissonance','dissonant','dissonantly','dissuade','dissuasive','distaste','distasteful','distastefully','distort','distortion','distortion','distract','distracting','distraction','distraction','distraught','distraughtly','distraughtness','distress','distressed','distressing','distressingly','distrust','distrustful','distrusting','disturb','disturbed','disturbed-let','disturbed-let','disturbing','disturbingly','disunity','disvalue','divergent','divide','divided','division','divisive','divisively','divisiveness','divorce','divorce','divorced','dizzy','dizzing','dizzingly','doddering','dodgey','dogged','doggedly','dogmatic','doldrums','dominance','dominance','dominate','domination','domination','domineer','domineering','domineering','doom','doomsday','doomsday','dope','doubt','doubt','doubtful','doubtfully','doubts','doubts','down','downbeat','downcast','downer','downfall','downfallen','downgrade','downhearted','downheartedly','downside','drab','draconian','draconic','dragon','dragons','dragons','dragoon','drain','drain','drama','drama','drastic','drastically','dread','dread','dreadful','dreadfully','dreadfulness','dreary','drones','drones','droop','drought','drought','drowning','drunk','drunkard','drunken','dubious','dubiously','dubitable','dud','dull','dullard','dumb','dumb','dumbfound','dumbfounded','dummy','dump','dunce','dungeon','dungeons','dungeons','dupe','dusty','dwindle','dwindling','dying','earsplitting','eccentric','eccentricity','edgy','effigy','effrontery','ego','ego','egocentric','egomania','egotism','egotistical','egotistically','egregious','egregiously','ejaculate','election-rigger','election-rigger','eliminate','elimination','emaciated','emasculate','embarrass','embarrassing','embarrassingly','embarrassment','embattled','embroil','embroiled','embroilment','emotional','empathize','empathy','emphatic','emphatically','emptiness','emptiness','empty','encroach','encroachment','endanger','endless','enemies','enemies','enemy','enervate','enfeeble','enflame','engulf','enjoin','enmity','enormities','enormity','enormous','enormously','enrage','enraged','enslave','entangle','entanglement','entrap','entrapment','envious','enviously','enviousness','envy','envy','epidemic','equivocal','eradicate','erase','erode','erosion','err','errant','erratic','erratically','erroneous','erroneous','erroneously','error','error','escapade','eschew','esoteric','estranged','eternal','evade','evasion','evasive','evil','evil','evildoer','evils','evils','eviscerate','exacerbate','exacting','exaggerate','exaggeration','exaggeration','exasperate','exasperation','exasperating','exasperatingly','excessive','excessively','exclaim','exclude','exclusion','excoriate','excruciating','excruciatingly','excuse','excuse','excuses','excuses','execrate','exhaust','exhaustion','exhort','exile','exorbitant','exorbitantance','exorbitantly','expedient','expediencies','expediencies','expel','expensive','expensive','expire','explode','exploit','exploitation','exploitation','expose','exposed','explosive','expropriate','expropriate','expropriation','expropriation','expulse','expunge','exterminate','extermination','extinguish','extort','extortion','extraneous','extravagance','extravagant','extravagantly','extreme','extreme','extremely','extremism','extremism','extremist','extremists','extremists','fabricate','fabrication','facetious','facetiously','fading','fail','failing','failure','failure','failures','failures','faint','fainthearted','faithless','fake','fall','fallacies','fallacies','fallacious','fallaciously','fallaciousness','fallacy','fallout','false','false','falsehood','falsely','falsify','falter','famine','famished','fanatic','fanatical','fanatically','fanaticism','fanatics','fanciful','far-fetched','farfetched','farce','farcical','farcical-yet-provocative','farcically','fascism','fascism','fascist','fastidious','fastidiously','fastuous','fat','fatal','fatalistic','fatalistically','fatally','fateful','fatefully','fathomless','fatigue','fatty','fatuity','fatuous','fatuously','fault','faulty','fawningly','faze','fear','fear','fearful','fearfully','fears','fears','fearsome','feckless','feeble','feeblely','feebleminded','feign','feint','fell','felon','felonious','ferocious','ferociously','ferocity','feverish','fetid','fever','fiasco','fiat','fiat','fib','fib','fibber','fickle','fiction','fiction','fictional','fictitious','fidget','fidgety','fiend','fiendish','fierce','fight','fight','figurehead','figurehead','filth','filthy','finagle','fine','fissures','fissures','fist','flabbergast','flabbergasted','flagging','flagrant','flagrantly','flak','flak','flake','flakey','flaky','flash','flash','flashy','flat-out','flaunt','flaw','flaw','flaws','flawed','flawed','fleer','fleeting','flighty','flimflam','flimsy','flirt','flirty','floored','flounder','floundering','flout','fluster','foe','fool','foolhardy','foolish','foolishly','foolishness','forbid','forbidden','forbidding','forbidding','force','forceful','foreboding','forebodingly','forfeit','forged','forget','forgetful','forgetfully','forgetfulness','forlorn','forlornly','formidable','forsake','forsaken','forswear','foul','foul','foul','foully','foulness','fractious','fractiously','fracture','fracture','fragile','fragile','fragmented','frail','frantic','frantically','franticly','fraternize','fraud','fraud','fraudulent','fraught','fraught','freak','freak','freakish','freakish','freakish','freakishly','frazzle','frazzle','frazzled','frenetic','frenetically','frenzied','frenzy','fret','fretful','friction','friction','frictions','frictions','friggin','fright','fright','frighten','frightening','frighteningly','frighteningly','frightful','frightfully','frigid','frivolous','frown','frown','frozen','fruitless','fruitlessly','fumble','fun','frustrate','frustrated','frustrating','frustrating','frustratingly','frustration','fudge','fudge','fudge','fugitive','full-blown','fulminate','fume','fundamentalism','fundamentalism','furious','furiously','furor','fury','fuss','fuss','fuss','fustigate','fussy','fusty','futile','futilely','futility','fuzzy','gabble','gaff','gaffe','gainsay','gainsayer','gaga','gaggle','gall','galling','gallingly','gamble','gamble','game','gape','garbage','garbage','garish','gasp','gasp','gauche','gaudy','gawk','gawky','geezer','genocide','genocide','get-rich','get-rich','ghastly','ghetto','gibber','gibberish','gibe','glare','glare','glaring','glaringly','glib','glibly','glitch','gloatingly','gloom','gloomy','gloss','glower','glum','glut','gnawing','goad','goading','god-awful','goddam','goddamn','goof','goof','gossip','gossip','gossip','graceless','gracelessly','graft','grandiose','grapple','grate','grating','gratuitous','gratuitous','gratuitously','grave','gravely','greed','greedy','grief','grievance','grievances','grievances','grieve','grieving','grievous','grievously','grill','grim','grimace','grind','grind','gripe','gripe','grisly','gritty','gross','grossly','grotesque','grouch','grouchy','groundless','grouse','growl','grudge','grudges','grudges','grudging','grudgingly','gruesome','gruesomely','gruff','grumble','guile','guilt','guilty','guiltily','gullible','haggard','haggle','halfhearted','halfheartedly','hallucinate','hallucination','hamper','hamstring','hamstrung','handicapped','hapless','haphazard','harangue','harass','harassment','harassment','harboring','harboring','harbors','harbors','hard','hard-hit','hard-line','hard-liner','hardball','hardball','harden','hardened','hardheaded','hardhearted','hardliner','hardliners','hardliners','hardly','hardship','hardships','hardships','harm','harm','harmful','harms','harms','harpy','harridan','harried','harrow','harsh','harshly','hassle','haste','haste','hasty','hasty','hate','hater','hateful','hatefully','hatefulness','haughtily','haughty','hatred','haunt','haunting','havoc','hawkish','hawkish','hazard','hazard','hazardous','hazy','headache','headaches','headaches','heartbreak','heartbreaker','heartbreaking','heartbreakingly','heartless','heartrending','heathen','heathen','heavily','heavy-handed','heavyhearted','heck','heck','heckle','hectic','hedge','hedonistic','heedless','hegemonism','hegemonism','hegemonistic','hegemony','hegemony','hegemony','heinous','hell','hell-bent','hellion','helpless','helplessly','helplessness','heresy','heretic','heretical','hesitant','hideous','hideously','hideousness','hinder','hindrance','hoard','hoax','hobble','hole','hollow','hoodwink','hopeless','hopelessly','hopelessness','horde','horrendous','horrendously','horrible','horrible','horribly','horrid','horrific','horrifically','horrify','horrify','horrifying','horrifyingly','horror','horrors','hostage','hostile','hostile','hostilities','hostilities','hostility','hostility','hothead','hotheaded','hotbeds','hotbeds','hothouse','hothouse','hubris','huckster','humbling','humiliate','humiliating','humiliation','hunger','hungry','hurt','hurt','hurtful','hustler','hypocrisy','hypocrite','hypocrites','hypocritical','hypocritically','hysteria','hysteric','hysterical','hysterically','hysterics','icy','idiocies','idiocy','idiot','idiotic','idiotically','idiots','idle','ignoble','ignominious','ignominiously','ignominy','ignore','ignorance','ignorance','ignorant','ignorant','ill','ill','ill-advised','ill-conceived','ill-fated','ill-favored','ill-mannered','ill-natured','ill-sorted','ill-tempered','ill-treated','ill-treatment','ill-treatment','ill-usage','ill-used','illegal','illegally','illegitimate','illicit','illiquid','illiterate','illness','illogic','illogical','illogically','illusion','illusion','illusions','illusions','illusory','imaginary','imbalance','imbalance','imbecile','imbroglio','immaterial','immature','imminence','imminent','imminently','immobilized','immoderate','immoderately','immodest','immoral','immorality','immorally','immovable','impair','impaired','impasse','impatience','impatient','impatiently','impeach','impede','impedance','impediment','impending','impending','impenitent','imperfect','imperfectly','imperialist','imperil','imperious','imperiously','impermissible','impersonal','impertinent','impetuous','impetuously','impiety','impinge','impious','implacable','implausible','implausibly','implicate','implication','implication','implode','impolite','impolitely','impolitic','importunate','importune','impose','imposers','imposers','imposing','imposing','imposition','imposition','impossible','impossiblity','impossibly','impotent','impotent','impoverish','impoverished','impractical','impractical','imprecate','imprecise','imprecisely','imprecision','imprison','imprisonment','improbability','improbable','improbably','improper','improperly','impropriety','imprudence','imprudent','impudence','impudent','impudently','impugn','impulsive','impulsively','impunity','impunity','impure','impurity','inability','inability','inaccessible','inaccuracy','inaccuracies','inaccurate','inaccurately','inaction','inactive','inadequacy','inadequate','inadequately','inadverent','inadverently','inadvisable','inadvisably','inane','inanely','inappropriate','inappropriately','inapt','inaptitude','inarticulate','inattentive','incapable','incapably','incautious','incendiary','incense','incessant','incessantly','incite','incitement','incitement','incivility','inclement','incognizant','incoherence','incoherent','incoherently','incommensurate','incomparable','incomparably','incompatibility','incompatible','incompatible','incompetence','incompetent','incompetently','incomplete','incompliant','incomprehensible','incomprehension','inconceivable','inconceivably','inconclusive','incongruous','incongruously','inconsequent','inconsequently','inconsequential','inconsequentially','inconsiderate','inconsiderately','inconsistence','inconsistencies','inconsistencies','inconsistency','inconsistent','inconsolable','inconsolably','inconstant','inconvenience','inconvenience','inconvenient','inconveniently','incorrect','incorrectly','incorrigible','incorrigibly','incredulous','incredulously','inculcate','indecency','indecent','indecently','indecision','indecisive','indecisively','indecorum','indefensible','indefensible','indefinite','indefinitely','indelicate','indeterminable','indeterminably','indeterminate','indifference','indifferent','indigent','indignant','indignantly','indignation','indignity','indignity','indiscernible','indiscreet','indiscreet','indiscreetly','indiscretion','indiscriminate','indiscriminating','indiscriminately','indisposed','indistinct','indistinctive','indoctrinate','indoctrination','indoctrination','indolent','indulge','ineffective','ineffectively','ineffectiveness','ineffectual','ineffectually','ineffectualness','inefficacious','inefficacious','inefficacy','inefficiency','inefficient','inefficiently','ineligible','inelegance','inelegant','ineloquent','ineloquently','inept','ineptitude','ineptitude','ineptly','inequalities','inequalities','inequality','inequality','inequitable','inequitably','inequities','inequities','inertia','inertia','inescapable','inescapably','inessential','inevitable','inevitable','inevitably','inexact','inexcusable','inexcusably','inexorable','inexorably','inexperience','inexperienced','inexpert','inexpertly','inexpiable','inexplainable','inexplicable','inextricable','inextricably','infamous','infamously','infamy','infected','inferior','inferiority','infernal','infest','infested','infidel','infidels','infiltrator','infiltrators','infiltrators','infirm','inflame','inflammatory','inflated','inflationary','inflexible','inflict','infraction','infringe','infringement','infringements','infringements','infuriate','infuriated','infuriating','infuriatingly','inglorious','ingrate','ingratitude','inhibit','inhibition','inhospitable','inhospitality','inhuman','inhumane','inhumanity','inimical','inimically','iniquitous','iniquity','injudicious','injure','injurious','injury','injustice','injustice','injustices','injustices','innuendo','innuendo','inopportune','inordinate','inordinately','insane','insanely','insanity','insatiable','insecure','insecurity','insecurity','insensible','insensitive','insensitively','insensitivity','insensitivity','insidious','insidiously','insignificance','insignificant','insignificantly','insincere','insincerely','insincerity','insinuate','insinuating','insinuation','insinuation','insociable','isolation','insolence','insolence','insolent','insolently','insolvent','insouciance','instability','instable','instigate','instigator','instigators','insubordinate','insubstantial','insubstantially','insufferable','insufferably','insufficiency','insufficient','insufficiently','insular','insult','insult','insulted','insulting','insulting','insultingly','insupportable','insupportably','insurmountable','insurmountably','insurrection','insurrection','interfere','interference','interference','intermittent','interrupt','interruption','intimidate','intimidating','intimidatingly','intimidation','intimidation','intolerable','intolerablely','intolerance','intolerance','intolerant','intoxicate','intractable','intransigence','intransigence','intransigent','intrude','intrusion','intrusive','inundate','inundated','invader','invader','invalid','invalidate','invalidity','invasive','invective','inveigle','invidious','invidiously','invidiousness','involuntarily','involuntary','irate','irately','ire','irk','irksome','ironic','ironies','ironies','irony','irrational','irrationality','irrationally','irreconcilable','irredeemable','irredeemably','irreformable','irregular','irregularity','irrelevance','irrelevant','irreparable','irreplacible','irrepressible','irresolute','irresolvable','irresponsible','irresponsibly','irretrievable','irreverence','irreverent','irreverently','irreversible','irreversible','irritable','irritably','irritant','irritate','irritated','irritating','irritation','irritation','isolate','isolated','isolation','itch','jabber','jaded','jam','jar','jaundiced','jealous','jealously','jealousness','jealousy','jeer','jeer','jeering','jeeringly','jeers','jeopardize','jeopardy','jerk','jittery','jobless','joker','jolt','jumpy','junk','junky','juvenile','kaput','keen','keen','kick','kick','kill','killer','killer','killjoy','knave','knife','knock','knock','kook','kooky','lack','lack','lackadaisical','lackey','lackeys','lackeys','lacking','lackluster','laconic','lag','lambast','lambaste','lame','lame-duck','lament','lamentable','lamentably','languid','languish','lanky','languor','languorous','languorously','lapse','lascivious','last-ditch','last-ditch','laugh','laugh','laughable','laughably','laughingstock','laughter','lawbreaker','lawbreaking','lawless','lawlessness','lawlessness','lax','lax','lazy','leak','leakage','leaky','least','lech','lecher','lecher','lecherous','lechery','lecture','lecture','leech','leech','leech','leer','leer','leery','left-leaning','less','less-developed','lessen','lesser','lesser-known','letch','lethal','lethargic','lethargy','lewd','lewdly','lewdness','liable','liability','liability','liar','liar','liars','liars','licentious','licentiously','licentiousness','lie','lie','lie','lier','lies','lies','life-threatening','lifeless','limit','limit','limitation','limited','limp','listless','litigious','little','little-known','livid','lividly','loath','loathe','loathe','loathing','loathly','loathsome','loathsomely','lone','lone','loneliness','lonely','lonesome','long','longing','longingly','loophole','loopholes','loopholes','loot','lorn','losing','losing','lose','loser','loss','lost','lousy','loveless','lovelorn','low','low-rated','lowly','ludicrous','ludicrously','lugubrious','lukewarm','lull','lunatic','lunatic','lunaticism','lurch','lure','lurid','lurk','lurking','lure','lying','macabre','mad','madden','maddening','maddeningly','madder','madder','madly','madman','madness','maladjusted','maladjustment','malady','malaise','malcontent','malcontent','malcontented','maledict','maledict','malevolence','malevolent','malevolently','malice','malicious','maliciously','maliciousness','malign','malign','malignant','malodorous','maltreatment','maltreatment','maneuver','maneuver','mangle','mania','maniac','maniacal','manic','manipulate','manipulation','manipulation','manipulative','manipulators','manipulators','mar','mar','marginal','marginally','martyrdom','martyrdom-seeking','massacre','massacre','massacres','maverick','mawkish','mawkishly','mawkishness','maxi-devaluation','maxi-devaluation','meager','mean','meaningless','meanness','meddle','meddlesome','mediocre','mediocrity','melancholy','melodramatic','melodramatically','menace','menace','menacing','menacingly','mendacious','mendacity','menial','merciless','mercilessly','mere','mere','merely','mess','mess','messy','midget','midget','miff','militancy','militancy','mind','mindless','mindlessly','mirage','mirage','mire','mire','misapprehend','misbecoming','misbecome','misbegotten','misbehave','misbehavior','miscalculate','miscalculation','miscalculation','mischief','mischief','mischievous','mischievously','misconception','misconceptions','misconceptions','miscreant','miscreants','misdirection','miser','miserly','miserable','miserableness','miserably','miseries','misery','misery','misfit','misfortune','misgiving','misgivings','misguidance','misguide','misguided','mishandle','mishap','misinform','misinformed','misinterpret','misjudge','misjudgment','mislead','mislead','misleading','misleadingly','mislike','mismanage','misread','misreading','misreading','misrepresent','misrepresentation','miss','misstatement','mistake','mistake','mistaken','mistakenly','mistakes','mistakes','mistrust','mistrust','mistrustful','mistrustfully','misunderstand','misunderstood','misunderstanding','misunderstanding','misunderstanding','misunderstandings','misunderstandings','misuse','moan','mock','mock','mockeries','mockery','mocking','mockingly','molest','molestation','monotonous','monotony','monster','monstrosities','monstrosity','monstrous','monstrously','moody','moon','moot','mope','morbid','morbidly','mordant','mordantly','moribund','mortification','mortified','mortify','mortifying','mortifying','motionless','motley','mourn','mourner','mournful','mournfully','muddle','muddy','mudslinger','mudslinging','mulish','multi-polarization','multi-polarization','mundane','murder','murder','murderous','murderously','murky','muscle-flexing','mysterious','mysteriously','mystery','mystify','mistified','myth','myth','nag','nagging','naive','naively','narrow','narrower','narrower','nastily','nastiness','nasty','nationalism','nationalism','naughty','nauseate','nauseating','nauseatingly','nebulous','nebulous','nebulously','need','need','needless','needlessly','needy','nefarious','nefariously','negate','negation','negative','neglect','neglect','neglected','negligent','negligence','negligible','nemesis','nettle','nettlesome','nervous','nervously','nervousness','neurotic','neurotically','niggle','nightmare','nightmarish','nightmarishly','nix','noisy','non-confidence','non-confidence','nonexistent','nonsense','nosey','notorious','notoriously','nuisance','nuisance','numb','obese','obese','object','objection','objection','objectionable','objections','objections','oblique','obliterate','obliterated','oblivious','oblivious','obnoxious','obnoxiously','obscene','obscenely','obscenity','obscure','obscure','obscurity','obsess','obsession','obsessions','obsessive','obsessively','obsessiveness','obsolete','obstacle','obstacle','obstinate','obstinately','obstruct','obstruction','obtrusive','obtuse','obviously','odd','odd','odder','oddest','oddities','oddities','oddity','oddly','offence','offence','offend','offend','offending','offenses','offenses','offensive','offensive','offensive','offensively','offensiveness','officious','ominous','ominously','omission','omit','one-side','one-sided','onerous','onerously','onslaught','onslaught','opinionated','opponent','opportunistic','oppose','opposition','opposition','oppositions','oppositions','oppress','oppression','oppression','oppressive','oppressively','oppressiveness','oppressors','oppressors','ordeal','orphan','ostracize','outbreak','outburst','outburst','outbursts','outbursts','outcast','outcry','outdated','outlaw','outmoded','outrage','outrage','outraged','outrageous','outrageous','outrageously','outrageousness','outrages','outsider','over-acted','over-valuation','over-valuation','overact','overact','overacted','overawe','overbalance','overbalanced','overbearing','overbearingly','overblown','overcome','overdo','overdone','overdue','overemphasize','overkill','overlook','overplay','overpower','overreach','overrun','overshadow','oversight','oversimplification','oversimplified','oversimplify','oversized','overstate','overstatement','overstatement','overstatements','overtaxed','overthrow','overturn','overwhelm','overwhelming','overwhelmingly','overworked','overzealous','overzealously','pain','pain','pain','painful','painfully','pains','pains','pale','pale','paltry','pan','pandemonium','panic','panic','panicky','paradoxical','paradoxically','paralize','paralyzed','paranoia','paranoid','parasite','pariah','parody','partiality','partiality','partisan','partisan','partisans','partisans','passe','passive','passive','passiveness','passiveness','pathetic','pathetically','patronize','paucity','paucity','pauper','paupers','paupers','payback','payback','peculiar','peculiarly','pedantic','pedestrian','peeve','peeved','peevish','peevishly','penalize','penalty','penalty','perfidious','perfidity','perfunctory','perfunctory','peril','perilous','perilously','peripheral','perish','pernicious','perplex','perplexed','perplexing','perplexity','persecute','persecution','persecution','pertinacious','pertinaciously','pertinacity','perturb','perturbed','pervasive','pervasive','perverse','perversely','perversion','perversity','pervert','perverted','pessimism','pessimistic','pessimistically','pest','pestilent','petrify','petrified','pettifog','petty','phobia','phobic','phony','picky','pillage','pillory','pinch','pinch','pine','pique','pitiable','pitiful','pitifully','pitiless','pitilessly','pittance','pity','pity','plagiarize','plague','plague','plague','plaything','plaything','plea','pleas','pleas','plebeian','plight','plot','plotters','plotters','ploy','ploy','plunder','plunderer','pointless','pointlessly','poison','poison','poisonous','poisonously','polarisation','polarisation','polemize','pollute','polluter','polluter','polluters','polluters','polution','pompous','poor','poorly','posturing','posturing','pout','poverty','powerless','prate','pratfall','prattle','precarious','precariously','precipitate','precipitous','predatory','predicament','prejudge','prejudice','prejudice','prejudicial','premeditated','preoccupy','preposterous','preposterously','pressing','pressing','presume','presumptuous','presumptuous','presumptuously','pretence','pretence','pretend','pretense','pretense','pretentious','pretentiously','prevaricate','pricey','prickle','prickles','prickles','prideful','primitive','primitive','prison','prisoner','problem','problematic','problematic','problems','problems','procrastinate','procrastination','profane','profane','profanity','prohibit','prohibitive','prohibitively','propaganda','propaganda','propagandize','proscription','proscription','proscriptions','proscriptions','prosecute','protest','protest','protest','protests','protests','protracted','provocation','provocation','provocative','provocative','provoke','pry','pugnacious','pugnaciously','pugnacity','punch','punch','punish','punishable','punitive','punitive','puny','puppet','puppet','puppets','puppets','puzzle','puzzled','puzzlement','puzzling','quack','qualms','qualms','quandary','quarrel','quarrel','quarrel','quarrellous','quarrellously','quarrels','quarrelsome','quash','queer','questionable','questionable','quibble','quit','quitter','racism','racism','racist','racist','racist','racists','racists','rack','radical','radical','radical','radicalization','radicalization','radically','radicals','rage','rage','ragged','raging','rail','rampage','rampant','ramshackle','rancor','rank','rankle','rant','rant','ranting','rantingly','rascal','rash','rat','rationalize','rattle','ravage','raving','reactionary','rebellious','rebuff','rebuke','recalcitrant','recant','recession','recessionary','reckless','recklessly','recklessness','recoil','recourses','recourses','redundancy','redundant','refusal','refusal','refuse','refutation','refutation','refute','regress','regression','regressive','regret','regret','regret','regretful','regretfully','regrettable','regrettably','reject','rejection','rejection','relapse','relentless','relentlessly','relentlessness','reluctance','reluctance','reluctant','reluctantly','remorse','remorse','remorseful','remorseful','remorsefully','remorseless','remorselessly','remorselessness','renounce','renunciation','repel','repetitive','reprehensible','reprehensible','reprehensibly','reprehension','reprehensive','repress','repression','repression','repressive','reprimand','reproach','reproach','reproach','reproachful','reprove','reprovingly','repudiate','repudiation','repudiation','repugn','repugnance','repugnant','repugnantly','repulse','repulsed','repulsing','repulsive','repulsively','repulsiveness','resent','resentful','resentment','resentment','reservations','reservations','resignation','resigned','resistance','resistance','resistant','resistant','restless','restlessness','restrict','restricted','restriction','restrictive','retaliate','retaliatory','retard','reticent','retire','retract','retreat','retreat','revenge','revenge','revengeful','revengefully','revert','revile','reviled','revoke','revolt','revolting','revoltingly','revulsion','revulsive','rhapsodize','rhetoric','rhetoric','rhetorical','rhetorical','rid','ridicule','ridicule','ridiculous','ridiculously','rife','rift','rift','rifts','rifts','rigid','rigor','rigorous','rile','riled','risk','risk','risky','rival','rival','rivalry','roadblocks','roadblocks','rocky','rogue','rogue','rollercoaster','rollercoaster','rot','rot','rotten','rough','rubbish','rude','rue','rue','ruffian','ruffle','ruin','ruin','ruin','ruinous','rumbling','rumbling','rumor','rumor','rumors','rumors','rumours','rumours','rumple','run-down','runaway','rupture','rupture','rusty','ruthless','ruthlessly','ruthlessness','sabotage','sacrifice','sacrifice','sad','sad','sadden','sadly','sadness','sag','salacious','sanctimonious','sanctimonious','sap','sarcasm','sarcastic','sarcastically','sardonic','sardonically','sass','sass','satirical','satirize','savage','savage','savage','savaged','savagely','savagery','savages','scandal','scandal','scandalize','scandalized','scandalous','scandalously','scandals','scant','scapegoat','scar','scar','scarred','scarce','scarcely','scarcity','scare','scared','scarier','scariest','scarily','scars','scars','scary','scary','scathing','scathingly','scheme','scheme','scheming','scoff','scoffingly','scold','scolding','scoldingly','scorching','scorchingly','scorn','scornful','scornfully','scoundrel','scourge','scowl','scowl','scream','screech','screech','screw','scum','scummy','second-class','second-tier','secretive','secretive','sedentary','seedy','seethe','seething','self-coup','self-coup','self-criticism','self-criticism','self-defeating','self-destructive','self-humiliation','self-humiliation','self-interest','self-interest','self-interested','self-serving','self-serving','selfinterested','selfish','selfishly','selfishness','senile','sensationalize','senseless','senselessly','serious','seriously','seriousness','sermonize','servitude','set-up','set-up','sever','severe','severe','severely','severity','shabby','shadow','shadowy','shady','shake','shaky','shallow','sham','shambles','shame','shame','shameful','shameful','shamefully','shamefully','shamefulness','shameless','shamelessly','shamelessness','shark','sharp','sharply','shatter','sheer','shirk','shirker','shipwreck','shiver','shock','shock','shock','shocking','shockingly','shoddy','short-lived','shortage','shortchange','shortcoming','shortcomings','shortsighted','shortsightedness','showdown','showdown','shred','shred','shrew','shriek','shrill','shrill','shrilly','shrivel','shroud','shrouded','shrug','shrug','shun','shunned','shy','shyly','shyness','sick','sicken','sickly','sickening','sickening','sickeningly','sickness','sidetrack','sidetracked','siege','sillily','silly','simmer','simplistic','simplistic','simplistically','sin','sin','sinful','sinfully','sinister','sinisterly','sinking','sinking','skeletons','skeletons','skeptical','skeptical','skeptically','skepticism','skepticism','sketchy','skimpy','skittish','skittish','skittishly','skulk','skyrocketing','slack','slander','slander','slanderer','slanderous','slanderously','slanders','slanders','slap','slashing','slashing','slaughter','slaughter','slaughter','slaughtered','slaves','slaves','sleazy','slight','slight','slight','slightly','slime','sloppy','sloppily','sloth','slothful','slow','slowly','slow-moving','slug','sluggish','slump','slump','slur','sly','smack','smack','smash','smash','smear','smelling','smokescreen','smokescreen','smolder','smoldering','smother','smoulder','smouldering','smug','smugly','smut','smuttier','smuttiest','smutty','snare','snarl','snarl','snatch','sneak','sneak','sneakily','sneaky','sneer','sneer','sneering','sneeringly','snub','so-cal','so-called','sob','sober','sober','sobering','solemn','solemn','somber','sore','sore','sorely','soreness','sorrow','sorrow','sorrowful','sorrowfully','sorry','sounding','sour','sourly','spade','spade','spank','spilling','spilling','spinster','spiritless','spite','spiteful','spitefully','spitefulness','split','split','splitting','spoil','spook','spookier','spookiest','spookily','spooky','spooky','spoon-fed','spoon-feed','spoonfed','sporadic','spot','spotty','spurious','spurn','sputter','squabble','squabbling','squander','squash','squirm','stab','stagger','staggering','staggeringly','stagnant','stagnate','stagnation','staid','stain','stake','stake','stale','stalemate','stammer','stampede','stampede','standstill','stark','starkly','startle','startling','startlingly','starvation','starve','static','steal','stealing','steep','steeply','stench','stereotype','stereotypical','stereotypically','stern','stern','stew','sticky','stiff','stifle','stifling','stiflingly','stigma','stigma','stigmatize','sting','sting','sting','stinging','stingingly','stink','stink','stinking','stodgy','stole','stolen','stolen','stooge','stooges','stooges','storm','stormy','straggle','straggler','strain','strain','strained','strange','strange','strangely','stranger','strangest','strangle','strenuous','stress','stress','stressful','stressfully','stricken','strict','strictly','strident','stridently','strife','strike','stringent','stringently','struck','struggle','struggle','strut','stubborn','stubbornly','stubbornness','stuffy','stumble','stump','stun','stunt','stunted','stupid','stupidity','stupidly','stupified','stupify','stupor','sty','sty','subdued','subjected','subjection','subjugate','subjugate','subjugation','submissive','subordinate','subordinate','subservience','subservient','subside','substandard','subtract','subversion','subversive','subversively','subvert','succumb','sucker','suffer','sufferer','sufferers','sufferers','suffering','suffering','suffocate','sugar-coat','sugar-coated','sugarcoated','suicidal','suicide','sulk','sullen','sully','sunder','superficial','superficial','superficiality','superficially','superfluous','superiority','superiority','superstition','superstitious','supposed','suppress','suppression','suppression','supremacy','supremacy','surrender','surrender','susceptible','suspect','suspect','suspicion','suspicion','suspicions','suspicions','suspicious','suspicious','suspicious','suspiciously','swagger','swamped','swear','swindle','swipe','swipe','swoon','swore','sympathetic','sympathetic','sympathetically','sympathies','sympathies','sympathize','sympathy','sympathy','symptom','syndrome','syndrome','taboo','taboo','taint','tainted','tamper','tangled','tantrum','tardy','tarnish','tattered','taunt','taunt','taunting','tauntingly','taunts','tawdry','tease','teasingly','taxing','tedious','tediously','temerity','temper','temper','tempest','temptation','tense','tension','tension','tentative','tentatively','tenuous','tenuously','tepid','terrible','terrible','terribleness','terribly','terror','terror-genic','terror-genic','terrorism','terrorize','thankless','thirst','thirst','thorny','thorny','thoughtless','thoughtlessly','thoughtlessness','thrash','threat','threat','threaten','threatening','threatening','threats','threats','throttle','throw','thumb','thumbs','thumbs','thwart','timid','timidity','timidly','timidness','tiny','tire','tired','tiresome','tiring','tiring','tiringly','toil','toll','toll','too','topple','torment','torment','tormented','torrent','torture','torture','tortured','tortuous','torturous','torturously','totalitarian','touchy','toughness','toughness','toxic','traduce','tragedy','tragedy','tragic','tragically','traitor','traitorous','traitorously','traitorously','tramp','trample','transgress','transgression','trauma','trauma','traumatic','traumatic','traumatically','traumatize','traumatized','travesties','travesty','travesty','treacherous','treacherously','treachery','treason','treasonous','trial','trick','trick','tricky','tricky','trickery','trivial','trivial','trivialize','trivially','trouble','trouble','trouble','trouble','troublemaker','troublemaker','troublesome','troublesome','troublesomely','troubling','troublingly','truant','try','trying','tumultuous','turbulent','turmoil','twist','twist','twisted','twists','twists','tyrannical','tyrannically','tyranny','tyrant','ugh','ugliness','ugliness','ugly','ulterior','ultimatum','ultimatums','ultimatums','ultra-hardline','ultra-hardline','unable','unacceptable','unacceptablely','unaccustomed','unattractive','unauthentic','unavailable','unavoidable','unavoidably','unbearable','unbearablely','unbelievable','unbelievably','uncertain','uncivil','uncivilized','uncivilized','unclean','unclear','uncollectible','uncomfortable','uncompetitive','uncompromising','uncompromisingly','unconfirmed','unconstitutional','uncontrolled','unconvincing','unconvincingly','uncouth','undecided','undefined','undependability','undependable','underdog','underdog','underestimate','underlings','underlings','undermine','underpaid','undesirable','undetermined','undid','undignified','undo','undocumented','undone','undue','unease','unease','uneasily','uneasiness','uneasiness','uneasy','uneconomical','unequal','unethical','uneven','uneventful','unexpected','unexpectedly','unexplained','unfair','unfairly','unfaithful','unfaithfully','unfamiliar','unfavorable','unfeeling','unfinished','unfit','unforeseen','unfortunate','unfortunately','unfounded','unfriendly','unfulfilled','unfunded','ungrateful','ungovernable','ungovernable','unhappily','unhappiness','unhappy','unhealthy','unilateralism','unilateralism','unimaginable','unimaginably','unimportant','uninformed','uninsured','unipolar','unipolar','unjust','unjustifiable','unjustifiably','unjustified','unjustly','unkind','unkindly','unlamentable','unlamentably','unlawful','unlawfully','unlawfulness','unlawfulness','unleash','unlicensed','unlikely','unlucky','unmoved','unnatural','unnaturally','unnecessary','unneeded','unnerve','unnerved','unnerving','unnervingly','unnoticed','unobserved','unorthodox','unorthodoxy','unpleasant','unpleasantries','unpleasantries','unpopular','unprecedent','unprecedented','unpredictable','unprepared','unproductive','unprofitable','unqualified','unravel','unravel','unraveled','unrealistic','unreasonable','unreasonable','unreasonably','unrelenting','unrelenting','unrelentingly','unreliability','unreliability','unreliable','unresolved','unrest','unruly','unsafe','unsatisfactory','unsavory','unscrupulous','unscrupulously','unseemly','unsettle','unsettled','unsettling','unsettlingly','unskilled','unsophisticated','unsound','unspeakable','unspeakablely','unspecified','unstable','unsteadily','unsteadiness','unsteady','unsuccessful','unsuccessfully','unsupported','unsure','unsuspecting','unsustainable','untenable','untested','unthinkable','unthinkably','untimely','untrue','untrustworthy','untruthful','unusual','unusually','unwanted','unwarranted','unwelcome','unwieldy','unwilling','unwillingly','unwillingness','unwise','unwisely','unworkable','unworthy','unyielding','upbraid','upheaval','uprising','uproar','uproarious','uproariously','uproarous','uproarously','uproot','upset','upset','upsetting','upsetting','upsettingly','urgency','urgency','urgent','urgent','urgently','useless','usurp','usurper','utter','utterly','vagrant','vague','vague','vagueness','vain','vainly','vanish','vanity','vehement','vehemently','vengeance','vengeful','vengefully','vengefulness','venom','venom','venomous','venomously','vent','vent','vestiges','vestiges','veto','veto','vex','vex','vexation','vexing','vexingly','vice','vicious','viciously','viciousness','victimize','vie','vile','vileness','vilify','villainous','villainously','villains','villains','villian','villianous','villianously','villify','vindictive','vindictively','vindictiveness','violate','violation','violator','violator','violent','violently','viper','virulence','virulent','virulently','virus','virus','vocally','vociferous','vociferously','void','volatile','volatility','vomit','vomit','vulgar','wail','wallow','wane','waning','waning','wanton','war','war','war-like','war-like','warfare','warlike','warning','warning','warp','warped','wary','warily','wariness','waste','waste','wasteful','wastefulness','watchdog','watchdog','wayward','weak','weaken','weakening','weakening','weakness','weakness','weaknesses','weaknesses','weariness','wearisome','weary','weary','weary','wedge','wedge','wee','weed','weep','weird','weird','weirdly','whatever','wheedle','whimper','whine','whine','whips','whips','wicked','wickedly','wickedness','widespread','wild','wildly','wiles','wilt','wily','wince','withheld','withhold','woe','woebegone','woeful','woefully','worn','worn','worried','worriedly','worrier','worries','worries','worrisome','worry','worry','worry','worrying','worryingly','worse','worsen','worsening','worst','worthless','worthlessly','worthlessness','wound','wound','wound','wounds','wounds','wreck','wreck','wrangle','wrath','wrest','wrestle','wretch','wretched','wretchedly','wretchedness','writhe','wrong','wrong','wrongful','wrongly','wrought','wrought','yawn','yawn','yelp','zealot','zealous','zealously']\n",
    "#neutral_vocab = [ 'absolute','absolutely','absorbed','accentuate','activist','activist','actual','actuality','actually','adolescents','adolescents','affect','affected','aha','air','alert','all-time','all-time','allegorize','alliance','alliances','alliances','allusion','allusion','allusions','altogether','amplify','analytical','anyhow','anyway','anyways','apparent','apparently','appear','appearance','appearance','apprehend','assess','assessment','assessment','assessments','assessments','assumption','assumption','astronomic','astronomical','astronomically','attitude','attitude','attitudes','attitudes','awareness','aware','baby','baby','basically','batons','batons','belief','belief','beliefs','beliefs','believe','besides','big','blood','broad-based','ceaseless','central','certain','certainly','certified','chant','chant','claim','clandestine','cogitate','cognizance','cognizance','cognizant','comment','comment','commentator','commentator','complete','completely','comprehend','concerning','concerning','concerted','confide','conjecture','conscience','consciousness','consciousness','consequently','consider','considerable','considerably','consideration','consideration','constitutions','constitutions','contemplate','continuous','corrective','could','covert','decide','deduce','deep','deeply','dependent','dependent','destiny','destiny','difference','difference','diplomacy','diplomacy','direct','discern','disposition','distinctly','dominant','dominant','downright','dramatic','dramatically','duty','effectively','elaborate','else','embodiment','emotion','emotion','emotions','emotions','emphasise','emphasise','engage','engross','enough','entire','entirely','entrenchment','entrenchment','evaluate','evaluation','evaluation','exact','exactly','exclusively','expectation','expectation','expound','expression','expression','expressions','expressions','extemporize','extensive','extensively','eyebrows','eyebrows','fact','facts','factual','familiar','familiar','far-reaching','fast','feel','feels','felt','feeling','feeling','feeling','feelings','feelings','finally','firm','firm','firmly','fixer','fixer','floor','forsee','foretell','forthright','fortress','fortress','frankly','frequent','full','fully','full-scale','fundamental','fundamentally','funded','further','furthermore','galvanize','gestures','gestures','giant','giant','giants','giants','gigantic','glean','greatly','growing','halfway','halfway','halt','heavy-duty','hefty','high','high-powered','hm','hmm','however','huge','hypnotize','idea','idea','ignite','imagination','imagination','imagine','immediate','immediately','immense','immensely','immensity','immensurable','immune','imperative','imperatively','implicit','imply','inarguable','inarguably','increasing','increasingly','indeed','indication','indication','indicative','indicative','indirect','infectious','infer','inference','inference','influence','influence','informational','inherent','inherent','inkling','inklings','inklings','innumerable','innumerably','innumerous','insights','intend','intense','intense','intensive','intensively','intent','intent','intention','intention','intentions','intentions','intents','intents','intimate','intrigue','invisible','irregardless','judgement','judgement','judgements','judgements','judgment','judgment','judgments','judgments','key','knew','know','knowing','knowingly','knowledge','large','large-scale','largely','lastly','learn','legacy','legacies','legacies','legalistic','legalistic','likelihood','likelihood','likely','likewise','limitless','limitless','look','looking','major','mantra','mantra','massive','matter','maybe','mean','memories','memories','mentality','metaphorize','might','minor','mm','moreover','most','mostly','motive','motive','move','much','mum','must','nap','nap','nascent','nature','nature','need','needful','needful','needfully','needs','needs','nevertheless','nonviolent','notion','notion','nuance','nuance','nuances','nuances','obligation','obligation','obvious','obvious','obvious','oh','olympic','open-ended','opinion','opinion','opinions','opinions','orthodoxy','ought','outlook','outlook','outright','outspoken','outspoken','overt','overtures','overtures','pacify','particular','particularly','perceptions','perceptions','perhaps','persistence','persistence','perspective','perspective','philosophize','pivotal','player','player','plenary','point','point','ponder','position','position','possibility','possibility','possible','possibly','posture','posture','power','power','practically','pray','precious','predictable','predictablely','predominant','pressure','pressure','pressures','pressures','presumably','prevalent','primarily','primary','prime','proclaim','prognosticate','prophesy','proportionate','proportionate','proportionately','prove','quick','quiet','quite','rapid','rare','rarely','rather','rather','react','reaction','reaction','reactions','reactions','readiness','readiness','realization','realization','really','recognizable','recognizable','reflecting','reflecting','reflective','regard','regardless','regardlessly','reiterate','reiterated','reiterated','reiterates','reiterates','relations','relations','remark','remark','renewable','replete','reputed','reveal','revealing','revelatory','scholarly','screaming','screamingly','scrutinize','scrutiny','scrutiny','seem','seemingly','self-examination','self-examination','should','show','signals','signals','simply','sleepy','so','soliloquize','sovereignty','sovereignty','specific','specifically','speculate','speculation','speculation','splayed-finger','splayed-finger','stance','stance','stances','stances','stands','stands','statements','statements','still','stir','stir','stir','strength','strength','stronger-than-expected','stuffed','stupefy','such','suppose','supposing','surprise','surprise','surprise','surprising','surprisingly','swing','swing','systematic','tale','tale','tall','tantamount','taste','tendency','tendency','theoretize','therefore','think','thinking','thinking','though','thought','thought','thus','thusly','tint','touch','touches','touches','transparency','transparency','transparent','transparent','transport','unaudited','utterances','utterances','very','view','view','view','viewpoints','viewpoints','views','views','vocal','vocal','whiff','whiff','would','yeah']\n",
    "\n",
    "positive_features = [(word_feats(pos), 'pos') for pos in positive_vocab]\n",
    "negative_features = [(word_feats(neg), 'neg') for neg in negative_vocab]\n",
    "neutral_features = [(word_feats(neu), 'neu') for neu in neutral_vocab]\n",
    " \n",
    "train_set = negative_features + positive_features + neutral_features\n",
    " \n",
    "classifier = NaiveBayesClassifier.train(train_set) \n",
    " \n",
    "# Predict\n",
    "neg = 0\n",
    "pos = 0\n",
    "sentence = \"Awesome movie, I liked it.\"\n",
    "sentence = sentence.lower()\n",
    "words = sentence.split(' ')\n",
    "for word in words:\n",
    "    classResult = classifier.classify(word_feats(word))\n",
    "    if classResult == 'neg':\n",
    "        neg = neg + 1\n",
    "    if classResult == 'pos':\n",
    "        pos = pos + 1\n",
    "    print(word, classResult)\n",
    " \n",
    "print('Positive: ' + str(float(pos)/len(words)))\n",
    "print('Negative: ' + str(float(neg)/len(words)))\n",
    "print('Neutral: ' + str(float(len(words)-pos-neg)/len(words)))\n",
    "neg = 0\n",
    "pos = 0\n",
    "print()\n",
    "sentence = \"Terrible movie , I hated it.\"\n",
    "sentence = sentence.lower()\n",
    "words = sentence.split(' ')\n",
    "for word in words:\n",
    "    classResult = classifier.classify(word_feats(word))\n",
    "    if classResult == 'neg':\n",
    "        neg = neg + 1\n",
    "    if classResult == 'pos':\n",
    "        pos = pos + 1\n",
    "    print(word, classResult)\n",
    " \n",
    "print('Positive: ' + str(float(pos)/len(words)))\n",
    "print('Negative: ' + str(float(neg)/len(words)))\n",
    "print('Neutral: ' + str(float(len(words)-pos-neg)/len(words)))"
   ]
  },
  {
   "cell_type": "markdown",
   "metadata": {},
   "source": [
    "# Sentiment Analysis on Movie Reviews Dataset"
   ]
  },
  {
   "cell_type": "code",
   "execution_count": 2,
   "metadata": {
    "collapsed": true
   },
   "outputs": [],
   "source": [
    "#Our goal is to do Twitter sentiment, so we're hoping for a data set\n",
    "#that is a bit shorter per positive and negative statement. It just \n",
    "#so happens that I have a data set of 5300+ positive and 5300+ negative \n",
    "#movie reviews, which are much shorter. \n",
    "import nltk\n",
    "import random\n",
    "from nltk.corpus import movie_reviews\n",
    "from nltk.classify.scikitlearn import SklearnClassifier\n",
    "import pickle\n",
    "\n",
    "from sklearn.naive_bayes import MultinomialNB, BernoulliNB\n",
    "from sklearn.linear_model import LogisticRegression, SGDClassifier\n",
    "from sklearn.svm import SVC, LinearSVC, NuSVC\n",
    "\n",
    "from nltk.classify import ClassifierI\n",
    "from statistics import mode\n",
    "import numpy as np\n",
    "from nltk.tokenize import word_tokenize"
   ]
  },
  {
   "cell_type": "code",
   "execution_count": 6,
   "metadata": {},
   "outputs": [
    {
     "name": "stdout",
     "output_type": "stream",
     "text": [
      "['the'] [10111]\n",
      "['rock'] [34]\n",
      "['is'] [3558]\n",
      "['destined'] [8]\n",
      "['to'] [4234]\n",
      "['be'] [939]\n",
      "['21st'] [6]\n",
      "['century'] [18]\n",
      "[\"'s\"] [3537]\n",
      "['new'] [206]\n"
     ]
    }
   ],
   "source": [
    "short_pos = open(\"short_reviews/positive.txt\",\"r\").read()\n",
    "short_neg = open(\"short_reviews/negative.txt\",\"r\").read()\n",
    "\n",
    "documents = []\n",
    "\n",
    "#get all lines from positive as well as negative docs\n",
    "for r in short_pos.split('\\n'):\n",
    "    documents.append( (r, \"pos\") )\n",
    "\n",
    "for r in short_neg.split('\\n'):\n",
    "    documents.append( (r, \"neg\") )\n",
    "\n",
    "#get all words\n",
    "all_words = []\n",
    "\n",
    "short_pos_words = word_tokenize(short_pos)\n",
    "short_neg_words = word_tokenize(short_neg)\n",
    "\n",
    "for w in short_pos_words:\n",
    "    all_words.append(w.lower())\n",
    "\n",
    "for w in short_neg_words:\n",
    "    all_words.append(w.lower())\n",
    "\n",
    "all_words = nltk.FreqDist(all_words)\n",
    "\n",
    "for i in np.arange(10):\n",
    "    print(list(all_words.keys())[i:i+1], list(all_words.values())[i:i+1])\n",
    "       \n",
    "#chooose to use first 5000 words as features for our purpose.\n",
    "word_features = list(all_words.keys())[:5000]\n",
    "word_features[:10]\n",
    "\n",
    "def find_features(document):\n",
    "    words = word_tokenize(document)\n",
    "    features = {}\n",
    "    for w in word_features:\n",
    "        features[w] = (w in words)\n",
    "    return features\n",
    "\n",
    "featuresets = [(find_features(rev), category) for (rev, category) in documents]\n",
    "\n",
    "random.shuffle(featuresets)"
   ]
  },
  {
   "cell_type": "code",
   "execution_count": 16,
   "metadata": {},
   "outputs": [
    {
     "data": {
      "text/plain": [
       "10664"
      ]
     },
     "execution_count": 16,
     "metadata": {},
     "output_type": "execute_result"
    }
   ],
   "source": [
    "len(featuresets)"
   ]
  },
  {
   "cell_type": "code",
   "execution_count": 17,
   "metadata": {
    "collapsed": true
   },
   "outputs": [],
   "source": [
    "training_set = featuresets[:5332]\n",
    "testing_set =  featuresets[5332:]"
   ]
  },
  {
   "cell_type": "code",
   "execution_count": 7,
   "metadata": {},
   "outputs": [
    {
     "name": "stdout",
     "output_type": "stream",
     "text": [
      "Original Naive Bayes Algo accuracy percent: 71.8304576144036\n",
      "Most Informative Features\n",
      "                  moving = True              pos : neg    =     13.4 : 1.0\n",
      "              engrossing = True              pos : neg    =     12.6 : 1.0\n",
      "                portrait = True              pos : neg    =     11.8 : 1.0\n",
      "                terrific = True              pos : neg    =     11.3 : 1.0\n",
      "                    warm = True              pos : neg    =     10.7 : 1.0\n",
      "                powerful = True              pos : neg    =     10.3 : 1.0\n",
      "             pretentious = True              neg : pos    =     10.1 : 1.0\n",
      "                provides = True              pos : neg    =     10.0 : 1.0\n",
      "                 reveals = True              pos : neg    =     10.0 : 1.0\n",
      "                captures = True              pos : neg    =     10.0 : 1.0\n",
      "                  school = True              neg : pos    =     10.0 : 1.0\n",
      "               wonderful = True              pos : neg    =      9.4 : 1.0\n",
      "                straight = True              neg : pos    =      9.3 : 1.0\n",
      "                touching = True              pos : neg    =      9.1 : 1.0\n",
      "                   witty = True              pos : neg    =      8.7 : 1.0\n"
     ]
    },
    {
     "data": {
      "text/plain": [
       "<SklearnClassifier(MultinomialNB(alpha=1.0, class_prior=None, fit_prior=True))>"
      ]
     },
     "execution_count": 7,
     "metadata": {},
     "output_type": "execute_result"
    },
    {
     "name": "stdout",
     "output_type": "stream",
     "text": [
      "MNB_classifier accuracy percent: 71.32408102025506\n"
     ]
    },
    {
     "data": {
      "text/plain": [
       "<SklearnClassifier(BernoulliNB(alpha=1.0, binarize=0.0, class_prior=None, fit_prior=True))>"
      ]
     },
     "execution_count": 7,
     "metadata": {},
     "output_type": "execute_result"
    },
    {
     "name": "stdout",
     "output_type": "stream",
     "text": [
      "BernoulliNB_classifier accuracy percent: 72.14928732183046\n"
     ]
    },
    {
     "data": {
      "text/plain": [
       "<SklearnClassifier(LogisticRegression(C=1.0, class_weight=None, dual=False, fit_intercept=True,\n",
       "          intercept_scaling=1, max_iter=100, multi_class='ovr', n_jobs=1,\n",
       "          penalty='l2', random_state=None, solver='liblinear', tol=0.0001,\n",
       "          verbose=0, warm_start=False))>"
      ]
     },
     "execution_count": 7,
     "metadata": {},
     "output_type": "execute_result"
    },
    {
     "name": "stdout",
     "output_type": "stream",
     "text": [
      "LogisticRegression_classifier accuracy percent: 71.51162790697676\n"
     ]
    }
   ],
   "source": [
    "classifier = nltk.NaiveBayesClassifier.train(training_set)\n",
    "print(\"Original Naive Bayes Algo accuracy percent:\", (nltk.classify.accuracy(classifier, testing_set))*100)\n",
    "classifier.show_most_informative_features(15)\n",
    "\n",
    "MNB_classifier = SklearnClassifier(MultinomialNB())\n",
    "MNB_classifier.train(training_set)\n",
    "print(\"MNB_classifier accuracy percent:\", (nltk.classify.accuracy(MNB_classifier, testing_set))*100)\n",
    "\n",
    "BernoulliNB_classifier = SklearnClassifier(BernoulliNB())\n",
    "BernoulliNB_classifier.train(training_set)\n",
    "print(\"BernoulliNB_classifier accuracy percent:\", (nltk.classify.accuracy(BernoulliNB_classifier, testing_set))*100)\n",
    "\n",
    "LogisticRegression_classifier = SklearnClassifier(LogisticRegression())\n",
    "LogisticRegression_classifier.train(training_set)\n",
    "print(\"LogisticRegression_classifier accuracy percent:\", (nltk.classify.accuracy(LogisticRegression_classifier, testing_set))*100)\n",
    "\n",
    "#SGDClassifier_classifier = SklearnClassifier(SGDClassifier())\n",
    "#SGDClassifier_classifier.train(training_set)\n",
    "#print(\"SGDClassifier_classifier accuracy percent:\", (nltk.classify.accuracy(SGDClassifier_classifier, testing_set))*100)\n",
    "\n",
    "##SVC_classifier = SklearnClassifier(SVC())\n",
    "##SVC_classifier.train(training_set)\n",
    "##print(\"SVC_classifier accuracy percent:\", (nltk.classify.accuracy(SVC_classifier, testing_set))*100)\n",
    "\n",
    "#LinearSVC_classifier = SklearnClassifier(LinearSVC())\n",
    "#LinearSVC_classifier.train(training_set)\n",
    "#print(\"LinearSVC_classifier accuracy percent:\", (nltk.classify.accuracy(LinearSVC_classifier, testing_set))*100)\n",
    "\n",
    "#NuSVC_classifier = SklearnClassifier(NuSVC())\n",
    "#NuSVC_classifier.train(training_set)\n",
    "#print(\"NuSVC_classifier accuracy percent:\", (nltk.classify.accuracy(NuSVC_classifier, testing_set))*100)\n"
   ]
  },
  {
   "cell_type": "code",
   "execution_count": 31,
   "metadata": {
    "collapsed": true
   },
   "outputs": [],
   "source": [
    "import os\n",
    "#os.mkdir(\"pickled_algos\")\n",
    "save_classifier = open(\"pickled_algos/originalnaivebayes5k.pickle\",\"wb\")\n",
    "pickle.dump(classifier, save_classifier)\n",
    "save_classifier.close()\n",
    "\n",
    "save_classifier = open(\"pickled_algos/MNB_classifier5k.pickle\",\"wb\")\n",
    "pickle.dump(MNB_classifier, save_classifier)\n",
    "save_classifier.close()\n",
    "\n",
    "save_classifier = open(\"pickled_algos/BernoulliNB_classifier5k.pickle\",\"wb\")\n",
    "pickle.dump(BernoulliNB_classifier, save_classifier)\n",
    "save_classifier.close()\n",
    "\n",
    "save_classifier = open(\"pickled_algos/LogisticRegression_classifier5k.pickle\",\"wb\")\n",
    "pickle.dump(LogisticRegression_classifier, save_classifier)\n",
    "save_classifier.close()"
   ]
  },
  {
   "cell_type": "code",
   "execution_count": 7,
   "metadata": {},
   "outputs": [
    {
     "name": "stderr",
     "output_type": "stream",
     "text": [
      "C:\\Users\\gmanish\\AppData\\Local\\Continuum\\Anaconda\\envs\\py36\\lib\\site-packages\\sklearn\\base.py:312: UserWarning: Trying to unpickle estimator LogisticRegression from version 0.18.1 when using version 0.19.0. This might lead to breaking code or invalid results. Use at your own risk.\n",
      "  UserWarning)\n",
      "C:\\Users\\gmanish\\AppData\\Local\\Continuum\\Anaconda\\envs\\py36\\lib\\site-packages\\sklearn\\base.py:312: UserWarning: Trying to unpickle estimator LabelEncoder from version 0.18.1 when using version 0.19.0. This might lead to breaking code or invalid results. Use at your own risk.\n",
      "  UserWarning)\n",
      "C:\\Users\\gmanish\\AppData\\Local\\Continuum\\Anaconda\\envs\\py36\\lib\\site-packages\\sklearn\\base.py:312: UserWarning: Trying to unpickle estimator DictVectorizer from version 0.18.1 when using version 0.19.0. This might lead to breaking code or invalid results. Use at your own risk.\n",
      "  UserWarning)\n"
     ]
    }
   ],
   "source": [
    "open_file = open(\"pickled_algos/LogisticRegression_classifier5k.pickle\", \"rb\")\n",
    "LogisticRegression_classifier = pickle.load(open_file)\n",
    "open_file.close()"
   ]
  },
  {
   "cell_type": "code",
   "execution_count": 8,
   "metadata": {
    "collapsed": true
   },
   "outputs": [],
   "source": [
    "def sentiment(text):\n",
    "    feats = find_features(text)\n",
    "    pred=LogisticRegression_classifier.classify(feats)\n",
    "    return pred, LogisticRegression_classifier.prob_classify(feats).prob(pred)"
   ]
  },
  {
   "cell_type": "code",
   "execution_count": 9,
   "metadata": {},
   "outputs": [
    {
     "name": "stdout",
     "output_type": "stream",
     "text": [
      "('pos', 0.612677751755622)\n"
     ]
    }
   ],
   "source": [
    "print(sentiment(\"This movie was good and awesome. The acting was great, plot was wonderful, and there were pythons\"))"
   ]
  },
  {
   "cell_type": "code",
   "execution_count": 10,
   "metadata": {},
   "outputs": [
    {
     "name": "stdout",
     "output_type": "stream",
     "text": [
      "('neg', 0.9816296198852289)\n"
     ]
    }
   ],
   "source": [
    "print(sentiment(\"This movie was utter junk. There were absolutely 0 pythons. I don't see what the point was at all. Horrible movie, 0/10\"))"
   ]
  },
  {
   "cell_type": "markdown",
   "metadata": {},
   "source": [
    "# Sentiment analysis on Twitter Data obtained via Tweepy"
   ]
  },
  {
   "cell_type": "markdown",
   "metadata": {},
   "source": [
    "Now that we have a sentiment analysis module, we can apply it to just about any text, but preferrably short bits of text, like from Twitter! "
   ]
  },
  {
   "cell_type": "code",
   "execution_count": 11,
   "metadata": {
    "collapsed": true
   },
   "outputs": [],
   "source": [
    "from tweepy import Stream\n",
    "from tweepy import OAuthHandler\n",
    "from tweepy.streaming import StreamListener\n",
    "#from twitterapistuff import *\n",
    "import json\n",
    "#https://themepacific.com/how-to-generate-api-key-consumer-token-access-key-for-twitter-oauth/994/"
   ]
  },
  {
   "cell_type": "code",
   "execution_count": 17,
   "metadata": {},
   "outputs": [
    {
     "name": "stdout",
     "output_type": "stream",
     "text": [
      "Approval by the much respected &amp; non partisan @Chellaney is proof enough that the @narendramodi govt is on the righ… https://t.co/WtIuCVTVhG neg 0.7560795509489777\n",
      "@udaychopra What an idiotic curiosity!\n",
      "I will answer u, time when India was actually Bhaarat until few centuries ag… https://t.co/qD8TLtXbbW neg 0.8790837206836994\n",
      "RT @Kuvalayamala: Arnab Goswami promoted desecration of Shanishignapur temple. Now again threatening the Hindus that he will Bring women fr… neg 0.6525104352659477\n",
      "Chinese govt respects Kailash Mansarovar Yatra: Chinese Ambassador to India - The Economic Times Video… https://t.co/i7sc0Rp9fO neg 0.5237389059008832\n",
      "RT @narendramodi: For us, human rights &amp; their protection are not merely phrases. They are articles of faith, which we are continuously uph… pos 0.7393460285970724\n",
      "RT @sgurumurthy: Pakistan hates Hindus more than it loves Islam. That is why it supports even surrenders to China but wages wars against an… neg 0.739419068912539\n",
      "RT @ARanganathan72: Strolling about a Himachali village, the photographer @daminijosh saw a woman worshipping, but not an idol, not any for… neg 0.6557511028199927\n",
      "RT @AdityaRajKaul: #BREAKING: India elected unopposed to the United Nations' top human rights body on Friday for a period of three years be… pos 0.5272608524988046\n",
      "RT @DIRECTD3MOCRACY: @IsHennie @OhRoyalOne @oBgmhRjvaENY1uJ @wherepond @MadzXdan @purplhaze42 @TanyaKasim @rico_hands @inabster @rk70534 @a… neg 0.6724519215739477\n",
      "RT @davidfrawleyved: India has survived invaders better than any country in the world. Has sustained its ancient dharmic civilization for t… pos 0.6058093173871667\n",
      "RT @AdityaMenon22: If you think @OmarAbdullah wants to take Kashmir to Pakistan, you have been radicalised beyond repair. India is as much… neg 0.8829826436824516\n",
      "@PMOIndia Means Petrol from 58₹ to 90 ₹. Gas celender 430₹ to 900₹.\n",
      "Thanks for controlling our India.\n",
      "May God shows the right path. pos 0.608165668013391\n",
      "RT @TrueIndology: 1100 years before Sher Shah Suri, Kumaragupta issued silver coins and called them Rupaka. Copper coins were called Padams… pos 0.7292361038447254\n",
      "SC rejects Kamal Nath, Sachin Pilot's petitions on voters' list of MP, Rajasthan - Daily Pioneer https://t.co/UT1IjQHcbV neg 0.5194154032879613\n",
      "RT @wef: Quote of the day.\n",
      "\n",
      "Learn more about the Fourth Industrial Revolution in India: https://t.co/v6ExfIMubF #India #technology https://… neg 0.6334653059234001\n",
      "RT @BDUTT: Frankly, however belated news media and Bollywood have behaved much more robustly over #MeToo allegations than the response to #… neg 0.9295035961231638\n",
      "RT @republic: Gautam Gambhir and Omar Abdullah engage in heated war of words on social media, after the cricketer accused political forces… pos 0.6278790382184629\n",
      "RT @MinhazMerchant: #Bofors corruption set back Indian defence capability by 30 yrs. Now those who enriched themselves from Bofors at India… neg 0.6821963505871458\n",
      "India's victory today at UN General Assembly during elections to human rights council is reflection of high standin… https://t.co/xVFXmBK5nk neg 0.5139852987716713\n",
      "RT @DrAnjilaGupta: #India has been elected to the UN's top human rights body for a period of 3 years beginning January 1, 2019, with 188 vo… pos 0.9136727699744259\n",
      "RT @Rajniinsa902: #NanhaFarishta Special care is been taken in its construction and size. The size is kept so small so that it can be easil… neg 0.7464337465937587\n",
      "#AyushmanBharat \n",
      "The sheer size of the AyushmanBharat covering 10 crore families, makes it a unique experiment in a… https://t.co/FXgNCegExo pos 0.5883214498950242\n",
      "RT @mahalgurdeep7: There is no such mobile hospital in whole of India, in which all types of treatment facilities are available, so #NanhaF… neg 0.9684523352837824\n",
      "Top 5 Festivals Not to be Missed in December in India 2017 #travel #india #travelogy #travelblogs  https://t.co/MoCAulgoyH neg 0.7569153069549152\n",
      "@DesiCryptoHodlr It's unlikely Blockchain and AI will ever see the light of day any time soon in India. I love and… https://t.co/2kTK1RpfnB pos 0.8483537443925548\n",
      "প্রধানমন্ত্রী মোদী ভগবান বিষ্ণুর একাদশতম অবতার : মহারাষ্ট্রের বিজেপি’র মুখপাত্র https://t.co/HgT0vmOdEs neg 0.6724519215739477\n",
      "Why people are being so deleterous now-a-days? Lost sense of responsibility and neighbourliness. Not only women, bu… https://t.co/FSOIYyFbRQ neg 0.9382491479200992\n",
      "RT @v_shrivsatish: Bharat Gaurav....India wins a member seat in the election of UNHRC in Asia-Pacific category....Bharat Mata Ki Jai. neg 0.6371589945493348\n",
      "RT @zainabsikander: If u cared to know more abt Kashmir by reading/researching/staying thr rather than guzzle WhatsApp fwds,u'd know that @… neg 0.9248881156704806\n",
      "Nariman Khaled crowned Miss Universe Egypt 2018 | Beauty Pageants - Times of India Videos https://t.co/1CexRETVVq neg 0.5462849968721716\n",
      "RT @nehainsan14: There is no such mobile hospital in whole of India, in which all types of treatment facilities are available, so #NanhaFar… neg 0.9684523352837824\n",
      "RT @samar11: Message to India's sportswomen: Call out your Nassars. Sharda Ugra reminds us of the deep rot and male impunity within Indian… pos 0.6921767761464163\n",
      "RT @AsYouNotWish: Many congratulations to all the fellow Indians on India being elected to the UN Human Rights Council with the highest num… neg 0.751866237836093\n",
      "RT @RuchirLModi: No #Gayle and #Bravo, how do you look at it? Great opportunity to set in young talent OR The sooner young players face her… neg 0.514565488721829\n",
      "@manojsinhabjp @IndiaPostOffice  very bad services provided by india post, speed post ensure that will delevered wi… https://t.co/k5MDhp4ML5 neg 0.9144305257958802\n",
      "RT @sushmitadevmp: Congratulations India for winning with the highest votes. The @IndiaUNNewYork worked hard for the big number of votes. A… neg 0.5284930752278891\n",
      "South India's first martial arts film #Ezhumin releases this Thursday, October 18th!\n",
      "\n",
      "#EzhuminFromOct18… https://t.co/dqTjGP1F4c neg 0.5551998152416335\n",
      "महाराष्ट्र के भाजपा प्रवक्ता ने पीएम मोदी को बताया भगवान विष्णु का '11वां अवतार' #BJP\n",
      "https://t.co/j3lecjajmP neg 0.7132228276161638\n",
      "RT @dpradhanbjp: Extremely proud moment for the  country, as India wins a seat at the #UnitedNations Human Rights Council. The win by highe… neg 0.6937782612453386\n",
      "RT @AdityaMenon22: If you think @OmarAbdullah wants to take Kashmir to Pakistan, you have been radicalised beyond repair. India is as much… neg 0.8829826436824516\n",
      "RT @DrGPradhan: Why did @SachinPilot wife leave him?\n",
      "\n",
      "bcoz he was caught with his Maid. Am i right Sachin\n",
      "\n",
      "Waiting for the day when this ma… neg 0.8766133728210137\n",
      "In 2016, 150 militants were killed and 213 militants were eliminated in 2017.\n",
      "https://t.co/FXNfjsXSYa neg 0.6014124205897577\n",
      "RT @abhishkJntrMnt: A Proud moment!\n",
      "\n",
      "India wins seat to Human rights council with highest number of votes. https://t.co/zTYxSznanP neg 0.5021809892742987\n",
      "RT @DevangVDave: Another testament to the impact of Prime Minister @narendramodi ji's International trips and treaties. \n",
      "\n",
      "India victory at… neg 0.817114806233298\n",
      "@padmanan @savukku In cinema not India pos 0.7754781338979652\n",
      "RT @republic: Jammu-Kashmir: 3rd phase of urban local bodies election begins. LIVE updates here\n",
      "https://t.co/GPLMgUMvWm pos 0.7854623719727555\n",
      "RT @MinhazMerchant: #Bofors corruption set back Indian defence capability by 30 yrs. Now those who enriched themselves from Bofors at India… neg 0.6821963505871458\n",
      "RT @Sridhar67: I wish this happens. There is too much of trouble that organic farmers are now taking to swim against the tide of chemical f… neg 0.9345354594712536\n",
      "RT @rajnathsingh: Attended the NHRC Silver Jubilee function in New Delhi today. The idea of human rights has always been a part of India’s… pos 0.8255732070848644\n",
      "RT @ajitanjum: द क्विंट के प्रोमोटर राघव बहल की तरफ से उनके घर और दफ्तर पर इनकम टैक्स की तरफ से मारे गए छापे की विस्तार से जानकारी दी गई है… neg 0.6724519215739477\n",
      "RT @coinbundlecom: You guys already know a lot about us, so let's get to know you! #coinbundle #bndl 🥰 The top 5 countries of verified user… pos 0.8228819154015351\n",
      "RT @ProfSJEmmanuel: India now again a member of UNHRC inner Council hopefully will play an active role in preventing SL wriggle out of its… pos 0.5552452673414119\n",
      "RT @INCIndia: Our thoughts &amp; prayers are with those affected by #CycloneTitli. We urge all Congressmen to assist those impacted.\n",
      "https://t.… neg 0.6769973748582245\n",
      "RT @ayushimit777: There is no such mobile hospital in whole of India, in which all types of treatment facilities are available, so #NanhaFa… neg 0.9684523352837824\n"
     ]
    },
    {
     "name": "stdout",
     "output_type": "stream",
     "text": [
      "RT @TodaysChanakya: This survey as mentioned in Times of India Mumbai 11 Oct edition is fake in our name &amp; we have not done it. Thank you.… neg 0.5511547182454622\n",
      "RT @TodaysChanakya: This survey as mentioned in Times of India Mumbai 11 Oct edition is fake in our name &amp; we have not done it. Thank you.… neg 0.5511547182454622\n",
      "India got 188 and Fiji got 187! What is the big deal about this highest? neg 0.7069892237213755\n",
      "RT @ambkcsingh: India gets elected to UN Human Rights Council as Indian Gov can’t jettison a minister with allegations against him by credi… neg 0.7266613167731251\n",
      "RT @pbhushan1: HAL Dassaulted! Make In India halted! self reliance defaulted! IAF jolted, exchequer looted, Ambani rewarded, India assaulte… neg 0.5908254404590498\n",
      "RT @sonamohapatra: Look what I found! A collage of some not so ‘funny’ utterances from the leading stars of the AIB funny collective. That… pos 0.7556818674623785\n",
      "So the first destination we explore is Bastar which is located in Chhattisgarh state of India  and start the journe… https://t.co/giam8ecP0K neg 0.5885550676854139\n",
      "RT @Rajniinsa902: #NanhaFarishta Special care is been taken in its construction and size. The size is kept so small so that it can be easil… neg 0.7464337465937587\n",
      "RT @gauravcsawant: How Srinagar was saved from Pak raiders in 1947. Less than 100 soldiers Vs more than 700 Pak raiders &amp; soldiers at Budga… neg 0.9021897555827636\n",
      "RT @sumanverma7777: The world’s smallest hospital #NanhaFarishta is made by a spiritual organization @DeraSachaSauda . The size is kept so… pos 0.6651687991025987\n",
      "RT @TributeProjects: @TheOtherMandela I voted too! By mail! From India! \n",
      "\n",
      "#BlueWave2018 neg 0.9182190485935394\n",
      "RT @jpyadavjourno: Over to \"gentleman\"...@mjakbar 's position has become untenable but .@BJP4India in a bind... I report @ttindia\n",
      "https://t… neg 0.8758357361395226\n",
      "RT @mahalgurdeep7: There is no such mobile hospital in whole of India, in which all types of treatment facilities are available, so #NanhaF… neg 0.9684523352837824\n",
      "@keshrianand @ReallySwara @GautamGambhir done for an Private company not India... @BCCI is not India.. Correct your self. pos 0.7679654503754548\n",
      "RT @ani_digital: Amid the raging controversy over the 2016 Rafale deal signed between India and France, Defence Minister Nirmala Sitharaman… neg 0.7270422219728412\n",
      "@NLatUN The Afghanistan Cricket Team has trained with India as they share a long shared history with the Mughal Ind… https://t.co/nxR6SZEK9H neg 0.5656174558499762\n",
      "RT @ANI: I would like to clearly tell the youth of the country that the Prime Minister of India is a corrupt man: Rahul Gandhi #RafaleDeal… neg 0.7063296316112635\n",
      "utf-8 channel suggest sourceid opera ie utf-8 boy and girl skinny sex videos sexy girls from india list of  https://t.co/c4U82vTW7i neg 0.5574534407208632\n",
      "RT @sankrant: Indians get terribly pleased with dumb victories like this Human Rights Council seat, while watching mutely on issues that re… neg 0.9321566554811037\n",
      "https://t.co/cdbOCqzit6 neg 0.6724519215739477\n",
      "RT @SirPareshRawal: Every day above the ground is a good day ...! https://t.co/z127wiNWbo pos 0.7166180151123782\n",
      "RT @spmrfoundation: India wins election to UN Human Rights Council with highest number of votes \n",
      "#NewIndia\n",
      "https://t.co/YX7fCEKJ7W neg 0.5294810110360324\n",
      "RT @sankrant: The Human Rights Council \"victory\" is a farce. There were 5 candidates for 5 positions from the Asia Pacific. Everyone one. 😏… neg 0.7331720048060231\n",
      "RT @moto2002moto: Star Sports to broadcast India-China friendly football game  https://t.co/oQ6aiSYISk neg 0.816909216273465\n",
      "RT @ZeeNews: Pakistan minor rape-murder case: Kasur convict to be hanged on October 17 https://t.co/ySHqQWvy9m pos 0.5213613087277736\n",
      "@JadedOdyssey @NobodyCynic This is why you don't have computer support call centers in India. neg 0.5007092386088292\n",
      "Congratulations India, @narendramodi !!!! neg 0.5543695404358641\n",
      "RT @KuberRajB: #MeToo is becoming a joke in \n",
      "India except for the real victims. I pray  that the real victims gets their justice. #LuvRanjan neg 0.629612897898463\n",
      "RT @sonakshisinha: It was all black and all magic at the @rohitandrahul1 show at the @thefdci India Fashion Week last night 🖤 #rohitgandhir… neg 0.8624981555763046\n",
      "RT @abpnewshindi: 9 दिनों में 2 रुपये 24 पैसे महंगा हुआ डीजल, सरकार ने 2.50 रुपये की कटौती की थी\n",
      "#PetrolPrice \n",
      "https://t.co/Rzci2snvaX neg 0.6010974764008681\n",
      "@UHC was developed by @Obamacare to take your money and not pay your claims.  How do they do it? $6,000.00 deductib… https://t.co/Sp0HZDxDOa neg 0.9125698630736886\n",
      "RT @dna: 3 AMU students from Kashmir booked for sedition for raising anti-India slogans\n",
      "https://t.co/HZ3dbKDweY neg 0.6481496900883947\n",
      "Retweet [RT] #recipes #food #cooking #delicious #cook #recipe \n",
      "Chak De India You Hungry Face CLICK LINK TO VIEW POS… https://t.co/E5kuZE5z4Y neg 0.5203341178167624\n",
      "RT @btsvotingteam: 🌏TOP COUNTRIES tweeting #MPN in the last 24 hours:\n",
      "\n",
      "1. South Korea\n",
      "2. Brazil\n",
      "3. Indonesia\n",
      "4. Peru\n",
      "5. Argentina\n",
      "6. Spain… neg 0.8727833572127283\n",
      "RT @mdbaid: गैर सरकारी संस्था एक्सेस इन्फो यूरोप ने 28 सितंबर के रिपोर्ट में बताया कि सूचना का अधिकार (आरटीआई) रैंकिंग में भारत नीचे गिरकर… neg 0.7535665280614419\n",
      "RT @MrsGandhi: Pic1:  PM @narendramodi's #UjjwajaYojana scheme provided LPG connections free of cost to 5CR BPL households.\n",
      "\n",
      "Pic2: Newly ap… neg 0.8300624787278962\n",
      "RT @sankrant: Indians get terribly pleased with dumb victories like this Human Rights Council seat, while watching mutely on issues that re… neg 0.9321566554811037\n",
      "RT @sway_hi: @ShashiTharoor Here comes the namby-pamby ninnyhammer vocabulary teacher of India. His self appointed goal is to improve the v… neg 0.6480164151765466\n",
      "RT @taylortlm: I was so drunk last night I tried to facetime india 22 TIMES that is crackhead behavior neg 0.9343619385711406\n",
      "RT @the_hindu: #RajnathSingh says a hue and cry is made whenever strong action is taken against anti-India elements\n",
      "https://t.co/xR9Wx8znw0 neg 0.5397698893069112\n",
      "RT @iMac_too: Pappu @RahulGandhi, have you ever asked your karyakartas how they feel after losing election after election under your able l… pos 0.6337723591718388\n",
      "RT @narendramodi: For us, human rights &amp; their protection are not merely phrases. They are articles of faith, which we are continuously uph… pos 0.7393460285970724\n",
      "RT @IndiaToday: In 2016, 150 militants were killed and 213 militants were eliminated in 2017.\n",
      "https://t.co/FXNfjsXSYa neg 0.6014124205897577\n",
      "RT @jitupatwari: मोदी सरकार में में कई मामलों में विश्व रैंकिंग में पिछड़ने के बाद भारत ग्लोबल #RTIRanking में भी लुढ़ककर 6ठे स्थान पर पहुं… neg 0.6724519215739477\n",
      "RT @bankwali_didi: What about recovering loans in 1hour? \n",
      "@arunjaitley \n",
      "@girirajsinghbjp \n",
      "#recover_corporateNPA https://t.co/IJ53xe3e68 neg 0.8551176305315833\n",
      "RT @BipinLAW: India has rejected the findings of the World Bank's report on Human Capital Index (HCI) which placed the country at the 115th… neg 0.8557805009686386\n",
      "RT @Newspaperwalli: As #metoo hits India, I’m amazed at the no. of times alcohol has been used by men to excuse their behaviour. Isn’t it i… neg 0.7985255167154971\n",
      "RT @OriginalAnmol: Good Morning India with a Very Good News #India wins the Seat to Human Rights Council at the United Nations for 3 years… neg 0.6208337936527399\n",
      "RT @Live_Hindustan: भारत यूएन मानवाधिकार परिषद का सदस्य बना, मिले सबसे ज्यादा वोट\n",
      "https://t.co/iN1Covgs22\n",
      "#UnitedNations neg 0.6327298870138071\n",
      "RT @vivekagnihotri: Slowly, all Leftists’ Romila Thapar kind of false history of India will fall flat. Because like Dalai Lama says about t… neg 0.6531873692589312\n",
      "RT @BasantiHemant: There is no such mobile hospital in whole of India, in which all types of treatment facilities are available, so #NanhaF… neg 0.9684523352837824\n",
      "RT @AsYouNotWish: Many congratulations to all the fellow Indians on India being elected to the UN Human Rights Council with the highest num… neg 0.751866237836093\n",
      "RT @swarup1972: @Manekagandhibjp of @MinistryWCD If Pooja  Mishara or Man harassment case u feel not true , let start this case as Open of… neg 0.8430497744905036\n",
      "@Swamy39 This is unbelievable, those five days r purest form ,why this, without this nobody can born.india is forwa… https://t.co/oFy6YoFI2Z pos 0.6824113941730557\n",
      "RT @BobbyShukla0112: @wef He is 💯✔\n",
      "In 2014\n",
      "India was 7th largest manufacturer of Mobile &amp; 5th in Steel.\n",
      "But\n",
      "Now India is 2nd largest manufa… neg 0.8141508954832204\n"
     ]
    },
    {
     "name": "stdout",
     "output_type": "stream",
     "text": [
      "RT @girishalva: \"When India is moving out of the corrupt past under a non-corrupt PM, would u tolerate massive corruptions in local govt bo… neg 0.5090438070230081\n",
      "RT @DefenceMinIndia: Smt. @nsitharaman and the Minister of Armed Forces of France, H.E. Ms. @florence_parly at the 1st Ministerial meeting… neg 0.6137402130187488\n",
      "@dermot_lyons @GuruAnaerobic @IntegralStory @Darius1296 @ShipSystem \n",
      "\n",
      "I certainly believe that some people are alle… https://t.co/xgYyIQomqG neg 0.7561562220023322\n",
      "RT @ZeeNewsHindi: शिवपाल यादव के बेटे आदित्य यादव ने दी अखिलेश को चुनौती, कहा- कन्नौज से लड़कर दिखाएं\n",
      "\n",
      "https://t.co/LWBSrJBNkk neg 0.6327298870138071\n",
      "@AlvinTanYOLO Scrawny dude too. He must be super rich. Indians did this years before putting useless kelefes in god… https://t.co/0qtXxX9m3y neg 0.5085094463061537\n",
      "RT @sharmasupriya: I still can't believe it that this man is still allowed to represent India abroad. Why hasn't he been sacked? He must be… neg 0.6317183742958088\n",
      "RT @ARanganathan72: Have you lost your mind? What absolute nonsense is this, @TelanganaCMO.\n",
      "\n",
      "DDT is shockingly harmful. America banned it i… neg 0.7437325242610204\n",
      "RT @Kuvalayamala: Arnab Goswami promoted desecration of Shanishignapur temple. Now again threatening the Hindus that he will Bring women fr… neg 0.6525104352659477\n",
      "RT @waglenikhil: More lies on Rafale deal exposed: Defence Procurement Procedure was violated in choosing Anil Ambani as offset partner htt… neg 0.8472699666383757\n",
      "RT @VPSecretariat: Hearty congratulations to Ms.Parul Parmar for her stellar performance and victory in #AsianParaGames2018.  You made Indi… pos 0.5661895136419324\n",
      "RT @zerohedge: Multi-Polar Political Project Pushed Forward By Putin In India https://t.co/Pv8pbOiNBJ neg 0.6724519215739477\n",
      "RT @republic: AMU suspends three Kashmiri students for holding a prayer meeting for terrorist Manan Wani\n",
      "https://t.co/4bsPwgrJNy neg 0.7838412005472614\n",
      "@j_kingsmill06 Syngenta India Shareholders voting and holding  86.89%  Dissent  only on the resolution. But Chinese… https://t.co/EAEKylSXZ1 neg 0.8085731841971774\n",
      "RT @DrGPradhan: Why did @SachinPilot wife leave him?\n",
      "\n",
      "bcoz he was caught with his Maid. Am i right Sachin\n",
      "\n",
      "Waiting for the day when this ma… neg 0.8766133728210137\n",
      "Bitbay to Iraqi Dinar - BAY to IQD \n",
      "read here: 👉 https://t.co/Nn1vauCJjf  💱\n",
      "  Idealgold to Cape Verdean Escudo - DE… https://t.co/IqzfBb4The neg 0.6529369358918753\n",
      "RT @pietragallahora: 1000 días de una de las injusticias más grande que vive nuestra patria.\n",
      "Ella y su historia, transformandola en lucha y… pos 0.8029629857339996\n",
      "RT @davidfrawleyved: India has survived invaders better than any country in the world. Has sustained its ancient dharmic civilization for t… pos 0.6058093173871667\n",
      "RT @pbhushan1: HAL Dassaulted! Make In India halted! self reliance defaulted! IAF jolted, exchequer looted, Ambani rewarded, India assaulte… neg 0.5908254404590498\n",
      "RT @ndtv: \"There should be a probe\": Maneka Gandhi after MJ Akbar named in #MeToo https://t.co/r8GS7y0zUf https://t.co/dOozoa4haQ neg 0.7999999512894133\n",
      "RT @KPCCPresident: Here is proof of why #HAL was kept out of #Rafale.\n",
      "An internal document of Dassault has described the awarding of the of… neg 0.5955744644862635\n",
      "@ImranKhanPTI neg 0.6075605876875908\n",
      "அதிவேகமாக வளர்ந்து வரும் நாடுகளில் இந்தியா முதல் மூன்று இடங்களில் இருக்கிறது என்று சர்வதேச நாணய நிதியத்தின் தலைவர்… https://t.co/oKeBcTNACv neg 0.6724519215739477\n",
      "RT @tarak9999: Hearty congratulations to Hima Das for making History as India’s first gold medal winning athlete in a track and field event… pos 0.8267765248166493\n",
      "RT @AskAnshul: Telangana's Tellapur village is best village in India.\n",
      "\n",
      "MRD report: There are 128 villages in India's top 10.\n",
      "\n",
      "Number of vil… neg 0.5757871358842026\n",
      "RT @TrollFootball: Forget the UCL Final and forget the World Cup Final!\n",
      "Tomorrow it is China vs India https://t.co/3tXebRrlDx neg 0.5345782963697131\n",
      "Supreme Court seeks Centre’s response on plea seeking NRC for Tripura | The Indian Express https://t.co/q9J69LHWXY pos 0.555826067511496\n",
      "Why these media tycons always try to link their personal misdeeds to freedom of expression or freedom of speech? Is… https://t.co/8MCFHtvP9V pos 0.7181440353867221\n",
      "https://t.co/R2z8JRNkx2\n",
      "\n",
      "Digital india! Yet some #AareyForest tribes do not have electricity. How are they to email… https://t.co/0HsTLKyhiB neg 0.8506841851276291\n",
      "#MeToo #iamgujarat #amitshah\n",
      "https://t.co/nU0jbn4n2t neg 0.6724519215739477\n",
      "RT @davidfrawleyved: India has survived invaders better than any country in the world. Has sustained its ancient dharmic civilization for t… pos 0.6058093173871667\n",
      "RT @AkbaruddinIndia: Voting for a Happy Outcome.\n",
      "\n",
      "Thanks to the support of all our friends @UN , India wins seat to Human Rights Council wi… neg 0.7134987868533944\n",
      "RT @PainoliD: राफेल डील पर बोले राहुल गांधी- हिंदुस्‍तान के प्रधानमंत्री भ्रष्‍ट हैं \n",
      "\n",
      "#RafaleScamGrandExpose \n",
      "\n",
      "#ChokidarHiChorHai\n",
      "\n",
      "#Chokid… neg 0.6724519215739477\n",
      "@KialoHQ No he is HIV for india neg 0.66721015174621\n",
      "RT @BezwadaWilson: Safai Karmachari Andolan is organizing India SaniTech Forum to reclaim human personhood. Machines to mechanize sewer cle… neg 0.5008964255621429\n",
      "RT @Bhuvan_Bam: I am working with @YouTube to highlight the impact of educating girls in India. Let’s join hands and be a part of this impo… pos 0.8760641050432967\n",
      "RT @abpnewshindi: 9 दिनों में 2 रुपये 24 पैसे महंगा हुआ डीजल, सरकार ने 2.50 रुपये की कटौती की थी\n",
      "#PetrolPrice \n",
      "https://t.co/Rzci2snvaX neg 0.6010974764008681\n",
      "RT @Harshit_insan1: #NanhaFarishta\n",
      "@Gurmeetramrahim\n",
      "\n",
      "  *DSS is a spiritual and social organization that is located in Sirsa, Haryana of Ind… neg 0.5808044647495871\n",
      "RT @nct_charts: iTunes:\n",
      "\n",
      "#1 Belarus\n",
      "#1 Brunei Darussalam\n",
      "#1 Bulgaria\n",
      "#1 Chile\n",
      "#1 Greece\n",
      "#1 Hong Kong\n",
      "#1 Hungary\n",
      "#1 India\n",
      "#1 Indonesia\n",
      "#1 Ja… neg 0.6724519215739477\n",
      "Moron, India is not your ancestral property. It belongs to @OmarAbdullah \n",
      "A cricketer now turned to be a bigot to m… https://t.co/uje4vwWwD5 neg 0.6565518363336675\n",
      "Need one in Chennai. Looking forward\n",
      "\n",
      "@NokiaMobile\n",
      "@NokiamobileIN\n",
      "#Nokia #nokiafaneventkolkata #nokiafans… https://t.co/KOVYX3ml3B neg 0.7405487731585862\n",
      "RT @davidfrawleyved: Ayodhya is the most honored of the seven sacred cities of India, founded by Manu, mentioned in Vedas. Lord Rama is the… neg 0.7360066435218162\n",
      "RT @Shokatali99: मेरे पास सबूत है, BJP ने रची उत्तर भारतीयों पर हमले की साजिश: शक्ति सिंह गोहिल\n",
      "https://t.co/z0sXXikLOP neg 0.6327298870138071\n",
      "RT @iscaisef: Grab the ISC 2019 Early Bird Offer - Only 4 days more!\n",
      "Know more: https://t.co/0MdLkM13Of\n",
      "\n",
      "#spice #conference #internationalc… neg 0.8174901359292607\n",
      "RT @RuchirLModi: India’s first in Judo! Tababi Devi Thangjam expands the band of sports where we’ve got our #Olympic medals. https://t.co/g… pos 0.9167384318115067\n",
      "Great to see two professionals, Ministers in Government, women leaders, leading their Country’s discussions on Mili… https://t.co/D1VvrHausx pos 0.8400451258648671\n",
      "RT @cordeliers: BTW I first heard of Rosa Luxemburg Foundation in Arundhati Roy's journalism. She points to RLS involvement in India's Obse… neg 0.817117170574404\n",
      "RT @republic: AMU suspends three Kashmiri students for holding a prayer meeting for terrorist Manan Wani\n",
      "https://t.co/4bsPwgrJNy neg 0.7838412005472614\n",
      "RT @ashokepandit: Have U seen a CD of ur official spokesperson promising a women to to be promoted as a Judge? https://t.co/qLfVkdU2Mb neg 0.9249447192292864\n",
      "RT @JayasreeVijayan: The Maharashtra BJP on Friday virtually elevated PM Modi to a divine status by calling him as the “11th Avatar of Lord… neg 0.8757617868539554\n",
      "RT @TimesNow: They are planning to kill PM, SC has given house arrest for them and here you are defending Urban Naxal, Sir. This is the oxy… neg 0.6057208894977363\n",
      "RT @rajeshvshah: Thank you @anandmahindra for having been the visionary who brought out the glory of India’s Kabaddi thru @ProKabaddi. @Pat… pos 0.7584121556387703\n",
      "RT @prernabindra: I had written to-&amp; had a 2 minute conversation with the former CM @yadavakhilesh saying why this road cutting thru Dudhwa… pos 0.6065998749748938\n",
      "RT @ARMYPeru2: [DATO] @BTS_twt \n",
      "\n",
      "Top de paises votando en #MPN Meus Premios Nick 🌏 en las últimas 24 horas! \n",
      "\n",
      "1. Corea del Sur \n",
      "2. Brasil… neg 0.6296062757827041\n",
      "RT @ajrajbjp: भारत ने सबसे ज्यादा वोट के साथ हासिल की UN मानवाधिकार परिषद की सदस्यता @narendramodi\n",
      "\n",
      "UN मानवाधिकार परिषद का सदस्य चुना गया… neg 0.6724519215739477\n"
     ]
    },
    {
     "name": "stdout",
     "output_type": "stream",
     "text": [
      "RT @corninggorilla: The Nov. 7 Imagine Dragons concert livestream may feel far away, so in the meantime, check out this amazing cover of Be… neg 0.8334329548885109\n",
      "@puru_ag This is Modified India where people educated by BJP WhatsApp University neg 0.6984068636146454\n",
      "RT @brumbyOz: He is double Sri. When he says 40 he really means 80. https://t.co/oHc5t5rZss neg 0.6727694324738491\n",
      "#Badminton⁠ ⁠ - Asian Para Games\n",
      "\n",
      "Final - MS SL4\n",
      "\n",
      "Fredy Setiawan (INA) vs Tarun (India)\n",
      "\n",
      "21-10 13-21 19-20\n",
      "\n",
      "Jantung… https://t.co/kYCNalf7Wq neg 0.661221501573344\n",
      "RT @Mausam1975: Delhi HC fixes Jan 17 as date for hearing AirAsia, Vistara case on daily basis https://t.co/VRp5rg6szZ @Swamy39 neg 0.7175915078619381\n",
      "RT @AnthonySald: INSECURE PM will never allow GDP fig calculation to be touched. Creative calculations like 1km road 4 lanes=4km used fr GD… pos 0.5595302081087468\n",
      "#MeToo movement in India is doing Amazing but it will be more amazing if the mainstream actresses start speaking am… https://t.co/PRa71fTyPp neg 0.7724084664045888\n",
      "RT @wef: Quote of the day.\n",
      "\n",
      "Learn more about the Fourth Industrial Revolution in India: https://t.co/v6ExfIMubF #India #technology https://… neg 0.6334653059234001\n",
      "India yg menang ah neg 0.6075605876875908\n",
      "RT @cordeliers: Foundation, a think tank established by Reliance Group, India's leading energy conglomerate, in support of mining industry… neg 0.5244335168512497\n",
      "RT @RavinarIN: In the meantime... In unreported news.... GOI has appointed India's Top Secret Agent, Bames Jond of Ghaziabad.... as the new… neg 0.6600674094289037\n",
      "@akashbanerjee @INCIndia @BJP4India @sardesairajdeep @prasanto @Nidhi @chetan_bhagat @kunalkamra88 @ReallySwara… https://t.co/tGN8fZfcBj neg 0.6724519215739477\n",
      "RT @NewIndianXpress: The District Magistrate Court of Aizawl in Mizoram has awarded HSI/India permanent custody of 24 dogs who the campaign… pos 0.5158784703018361\n",
      "RT @Harshit_insan1: #NanhaFarishta\n",
      "@Gurmeetramrahim\n",
      "@derasachasauda\n",
      "   *Special care is been taken in its construction and size. The size i… neg 0.7265391252085283\n",
      "RT @Harshit_insan1: #NanhaFarishta\n",
      "@Gurmeetramrahim\n",
      "@derasachasauda\n",
      "   *Special care is been taken in its construction and size. The size i… neg 0.7265391252085283\n",
      "@MEAIndia Why is Delhi Immigration saying that Maldivians need visa to visit #India for tourist purposes?My niece &amp;… https://t.co/bq33O1Cbxe neg 0.8097746114232605\n",
      "RT @TwitterIndia: Watch live! #DemocracyAdda https://t.co/17Lr3mrMjJ neg 0.7275551785570223\n",
      "RT @AgniBarsa: @priyashekhawat_ @Lohia_Krishna_ @yesimsaffron_ @kiittu_ @Shradha__Kap @shuklapalak1 @Saffron_Rounak Master Of Developing In… neg 0.6724519215739477\n",
      "RT @RichaChadha: We need trees. We need tigers. The floods in Kerala were just the beginning. The UN has issued a climate change warning to… neg 0.7372852243348096\n",
      "RT @eri37058552: Celadonite after Apophyllite / Maharashtra, India\n",
      "\n",
      "セラドン石の魚眼石仮晶だそうです(*´ω｀*)\n",
      "アポフィライトの照り照り感もありつつ、所々で全然違う石っぽくなってて面白い✨\n",
      "こういう色あい、… neg 0.7913329954650249\n",
      "RT @BezwadaWilson: Safai Karmachari Andolan is organizing India SaniTech Forum to reclaim human personhood. Machines to mechanize sewer cle… neg 0.5008964255621429\n",
      "RT @SpinePainBegone: \"Indiana GOP Files Ethics Complaint Against Joe Donnelly\" https://t.co/BQ5LHwQ4gD #politics #feedly neg 0.5107697105850733\n",
      "RT @AdityaRajKaul: #BREAKING: First photographs of Raksha Mantri @nsitharaman at Dassault Aviation, near Paris in France earlier today, whe… neg 0.645899935530402\n",
      "RT @Mayavi101: India’s biggest #MeToo https://t.co/5oIx31sgQt pos 0.5996561548271518\n",
      "RT @devraj17barnel: @Shehla_Rashid  तू ये बता की पंखुडी ने अखीलेश की पोल खोलना शुरू किया था तो\n",
      "समाजवादी पार्टी के गुंडों की जगह #बजरंग_दल… neg 0.6724519215739477\n",
      "RT @davidfrawleyved: India has survived invaders better than any country in the world. Has sustained its ancient dharmic civilization for t… pos 0.6058093173871667\n",
      "RT @kkathane: \"Wildlife officials in India are hoping to catch a killer tiger using cologne\"  https://t.co/GAVfLiC1M3 neg 0.5972381795833228\n",
      "RT @pbhushan1: HAL Dassaulted! Make In India halted! self reliance defaulted! IAF jolted, exchequer looted, Ambani rewarded, India assaulte… neg 0.5908254404590498\n",
      "RT @Harshit_insan1: #NanhaFarishta\n",
      "@Gurmeetramrahim\n",
      "\n",
      "  *DSS is a spiritual and social organization that is located in Sirsa, Haryana of Ind… neg 0.5808044647495871\n",
      "RT @ANI: India wins the seat to Human Rights Council at United Nations with the highest votes among all candidates. https://t.co/zNrTTCVEFn neg 0.6528873213748629\n",
      "RT @sona2905: Chinese govt respects Kailash Mansarovar Yatra: Chinese Ambassador to India - The Economic Times Video https://t.co/ku1ogGTd0… neg 0.5237389059008832\n",
      "RT @harshmadhusudan: I tremble at the thought of a Rahul Gandhi or Mamata etc prime ministership. India in 2013 could have gone down the Br… neg 0.9496988145148046\n",
      "RT @zoo_bear: Was wondering why Amreekan currency has higher value than India.\n",
      " All  to Nittyananda Swamy for the explanation. Refreshing!… neg 0.8644849716820672\n",
      "RT @bgsubhash: Sickularists, pseudo seculars,liberendus,communist rascals,Congress idiots. Read the story of real secularism practiced by M… neg 0.5924413644369938\n",
      "@NLatUN The nation of India with over a billion people are big fans of the Afghanistan Cricket Team who want them t… https://t.co/pbMqjlCz5t neg 0.589099059554903\n",
      "RT @btsvotingteam: 🌏TOP COUNTRIES tweeting #TheSong in the last 24 hrs:\n",
      "\n",
      "1. United States\n",
      "2. South Korea\n",
      "3. Indonesia\n",
      "4. Argentina\n",
      "5. Brazi… neg 0.875480036896393\n",
      "RT @ImSuman_insan: There is no such mobile hospital in whole of India, in which all types of treatment facilities are available, so #NanhaF… neg 0.9684523352837824\n",
      "RT @CyberDost: https://t.co/w6qrMcAMOs is an initiative of Government of India to facilitate online reporting of Child Pornography (CP) and… neg 0.6767206262414103\n",
      "RT @JagranNews: संयुक्त राष्ट्र में भारत का दबदबा बढ़ा, मानव अधिकार परिषद में भारी बहुमत से सीट जीतीhttps://t.co/CfRctc5M8h\n",
      "#HumanRightsCou… neg 0.6327298870138071\n",
      "RT @nehasamee11: #MeToo hits #BJPGovt\n",
      "#BJP's anti women Mindset..\n",
      "Sushma swaraj stays silent about allegations against MJ Akbar.\n",
      "MeToo move… pos 0.5836858684513707\n",
      "RT @KanchanGupta: #Uttarakhand HC's ban on #fatwas was a progressive verdict that placed Constitution above Faith in the Secular Republic o… neg 0.7970473402955138\n",
      "RT @wef: Quote of the day.\n",
      "\n",
      "Learn more about the Fourth Industrial Revolution in India: https://t.co/v6ExfIMubF #India #technology https://… neg 0.6334653059234001\n",
      "Your talk was moving and motiv ating indeed.\n",
      "Congratulations!👍 pos 0.5525082703749938\n",
      "RT @bamitav: \"No internet shutdown in #India: Cyber Security official - The Economic Times\" https://t.co/zQv4niKMQl #InfoSec #Security #Cyb… neg 0.5691894907900445\n",
      "India elected to UN Human Rights Council \n",
      "\n",
      "https://t.co/Q0ahUDt7pr neg 0.7334706801192441\n",
      "RT @RuchirLModi: A new age for #football in #India. https://t.co/WNk5tTimS2 neg 0.6707531922067224\n",
      "RT @SirJadejaaaa: India Wins The Seat To Human Rights Council At United Nations (#UNHRC) With 188 Out Of 193 Votes, Highest Among All Candi… neg 0.7195792483097794\n",
      "RT @AmarUjalaNews: भारत का संयुक्त राष्ट्र में बढ़ा कद, मानवाधिकार परिषद में तीन साल तक करेगा मेजबानी\n",
      "\n",
      "#UnitedNations #HumanRightsCouncil\n",
      "#… neg 0.6327298870138071\n",
      "@AkbaruddinIndia @UN @IndiaUNNewYork @DDNewsLive @MIB_India @PIB_India @PTI_News @IndiaUNGeneva @IndianDiplomacy… https://t.co/Yb3MNyuksq neg 0.6724519215739477\n",
      "RT @semestasains: Kerjasama Badan Kelautan Amerika, Eropa, Jepang, dan India menurunkan sensor dan scanner lautan terkuat saat itu kedalam… neg 0.6327298870138071\n",
      "⏬ watch ⏬\n",
      "\n",
      "https://t.co/R53BGsYJGi\n",
      "\n",
      "anal bbw porn india indiancollegegirl sexyteacher indianboobssucking assfuck in… https://t.co/AcWojCORkf neg 0.6364252364376859\n",
      "RT @narendramodi: Birthday greetings to one of India’s most popular actors, Shri Amitabh Bachchan Ji. His contribution to Indian cinema and… pos 0.9081320411923499\n",
      "RT @Pelicolombianas: #IndioNoEsInculto, es el gentilicio de quienes viven en la India. Son datos y hay que darlos. https://t.co/hbOmiKEsbo pos 0.8114513013477664\n"
     ]
    }
   ],
   "source": [
    "#consumer key, consumer secret, access token, access secret.\n",
    "#ckey=\"\"\n",
    "#csecret=\"\"\n",
    "#atoken=\"\"\n",
    "#asecret=\"\"\n",
    "\n",
    "class listener(StreamListener):\n",
    "    total=10\n",
    "    curr=0\n",
    "    def on_data(self, data):\n",
    "        all_data = json.loads(data)\n",
    "        tweet=\"\"\n",
    "        if \"text\" in all_data:\n",
    "            tweet = all_data[\"text\"]\n",
    "        sentiment_value, confidence = sentiment(tweet)\n",
    "        print(tweet, sentiment_value, confidence)\n",
    "\n",
    "        if confidence*100 >= 80 and sentiment_value=='pos' and tweet!=\"\":\n",
    "            output = open(\"twitter-out.txt\",\"a\", encoding=\"utf-8\")\n",
    "            output.write(tweet)\n",
    "            output.write('\\n')\n",
    "            output.close()\n",
    "            self.curr=self.curr+1\n",
    "            if(self.curr>self.total):\n",
    "                return False\n",
    "        return True\n",
    "\n",
    "    def on_error(self, status):\n",
    "        print(status)\n",
    "\n",
    "auth = OAuthHandler(ckey, csecret)\n",
    "auth.set_access_token(atoken, asecret)\n",
    "\n",
    "twitterStream = Stream(auth, listener())\n",
    "twitterStream.filter(track=[\"india\"])"
   ]
  },
  {
   "cell_type": "markdown",
   "metadata": {},
   "source": [
    "That is enough to print out all of the data for the streaming live tweets that contain the term \"car.\" We can use the json module to load the data var with json.loads(data), and then we can reference the tweet specifically with:"
   ]
  },
  {
   "cell_type": "code",
   "execution_count": null,
   "metadata": {
    "collapsed": true
   },
   "outputs": [],
   "source": []
  }
 ],
 "metadata": {
  "kernelspec": {
   "display_name": "Python 3",
   "language": "python",
   "name": "python3"
  },
  "language_info": {
   "codemirror_mode": {
    "name": "ipython",
    "version": 3
   },
   "file_extension": ".py",
   "mimetype": "text/x-python",
   "name": "python",
   "nbconvert_exporter": "python",
   "pygments_lexer": "ipython3",
   "version": "3.7.4"
  }
 },
 "nbformat": 4,
 "nbformat_minor": 2
}
