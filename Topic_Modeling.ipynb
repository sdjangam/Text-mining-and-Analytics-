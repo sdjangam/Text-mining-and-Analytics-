{
 "cells": [
  {
   "cell_type": "markdown",
   "metadata": {},
   "source": [
    "## **Implementation of Topic Modelling using LDA:**\n",
    "Topic Models are very useful for the purpose for document clustering, organizing large blocks of textual data, information retrieval from unstructured text and feature selection. For Example – New York Times are using topic models to boost their user – article recommendation engines.\n",
    "- `latent Dirichlet allocation (LDA)` is a generative statistical model that allows sets of observations to be explained by unobserved groups that explain why some parts of the data are similar."
   ]
  },
  {
   "cell_type": "markdown",
   "metadata": {},
   "source": [
    "#### **Required Libraries**"
   ]
  },
  {
   "cell_type": "code",
   "execution_count": 77,
   "metadata": {},
   "outputs": [],
   "source": [
    "# packages to store and manipulate data\n",
    "import pandas as pd\n",
    "import numpy as np\n",
    "import warnings\n",
    "\n",
    "import nltk\n",
    "from nltk.tokenize import RegexpTokenizer\n",
    "from nltk.corpus import stopwords\n",
    "\n",
    "# plotting packages\n",
    "import matplotlib.pyplot as plt\n",
    "import seaborn as sns\n",
    "\n",
    "# model building package\n",
    "import sklearn\n",
    "\n",
    "# package to clean text\n",
    "import re\n",
    "\n",
    "from sklearn.feature_extraction.text import CountVectorizer\n",
    "from sklearn.decomposition import LatentDirichletAllocation\n",
    "\n",
    "warnings.filterwarnings('ignore')"
   ]
  },
  {
   "cell_type": "code",
   "execution_count": 49,
   "metadata": {},
   "outputs": [
    {
     "name": "stdout",
     "output_type": "stream",
     "text": [
      "                                               tweet\n",
      "0  Global warming report urges governments to act...\n",
      "1  Fighting poverty and global warming in Africa ...\n",
      "2  Carbon offsets: How a Vatican forest failed to...\n",
      "3  Carbon offsets: How a Vatican forest failed to...\n",
      "4  URUGUAY: Tools Needed for Those Most Vulnerabl...\n"
     ]
    }
   ],
   "source": [
    "''' reading dataset '''\n",
    "df = pd.read_csv('climate_tweets.csv')\n",
    "print(df.head())"
   ]
  },
  {
   "cell_type": "code",
   "execution_count": 50,
   "metadata": {},
   "outputs": [],
   "source": [
    "# normal function example\n",
    "def my_normal_function(x):\n",
    "    return x**2 + 10\n",
    "# lambda function example\n",
    "my_lambda_function = lambda x: x**2 + 10"
   ]
  },
  {
   "cell_type": "markdown",
   "metadata": {},
   "source": [
    "#### **finding retweets**"
   ]
  },
  {
   "cell_type": "code",
   "execution_count": 51,
   "metadata": {},
   "outputs": [
    {
     "data": {
      "text/plain": [
       "773"
      ]
     },
     "execution_count": 51,
     "metadata": {},
     "output_type": "execute_result"
    }
   ],
   "source": [
    "# make a new column to highlight retweets\n",
    "df['is_retweet'] = df['tweet'].apply(lambda x: x[:2]=='RT')\n",
    "df['is_retweet'].sum()  # number of retweets"
   ]
  },
  {
   "cell_type": "code",
   "execution_count": 52,
   "metadata": {},
   "outputs": [
    {
     "data": {
      "text/plain": [
       "677"
      ]
     },
     "execution_count": 52,
     "metadata": {},
     "output_type": "execute_result"
    }
   ],
   "source": [
    " # number of unique retweets\n",
    "df.loc[df['is_retweet']].tweet.unique().size"
   ]
  },
  {
   "cell_type": "code",
   "execution_count": 53,
   "metadata": {},
   "outputs": [
    {
     "data": {
      "text/html": [
       "<div>\n",
       "<style scoped>\n",
       "    .dataframe tbody tr th:only-of-type {\n",
       "        vertical-align: middle;\n",
       "    }\n",
       "\n",
       "    .dataframe tbody tr th {\n",
       "        vertical-align: top;\n",
       "    }\n",
       "\n",
       "    .dataframe thead th {\n",
       "        text-align: right;\n",
       "    }\n",
       "</style>\n",
       "<table border=\"1\" class=\"dataframe\">\n",
       "  <thead>\n",
       "    <tr style=\"text-align: right;\">\n",
       "      <th></th>\n",
       "      <th>tweet</th>\n",
       "      <th>counts</th>\n",
       "    </tr>\n",
       "  </thead>\n",
       "  <tbody>\n",
       "    <tr>\n",
       "      <th>3131</th>\n",
       "      <td>No matter if you believe in global warming or ...</td>\n",
       "      <td>20</td>\n",
       "    </tr>\n",
       "    <tr>\n",
       "      <th>4555</th>\n",
       "      <td>Take Action @change: Help Protect Wildlife Hab...</td>\n",
       "      <td>14</td>\n",
       "    </tr>\n",
       "    <tr>\n",
       "      <th>4027</th>\n",
       "      <td>RT @newtgingrich: Historic snow storm in washi...</td>\n",
       "      <td>9</td>\n",
       "    </tr>\n",
       "    <tr>\n",
       "      <th>1765</th>\n",
       "      <td>Fight Climate Change From All Fronts: [link]</td>\n",
       "      <td>8</td>\n",
       "    </tr>\n",
       "    <tr>\n",
       "      <th>1626</th>\n",
       "      <td>Earth's polar ice sheets vulnerable to even mo...</td>\n",
       "      <td>7</td>\n",
       "    </tr>\n",
       "    <tr>\n",
       "      <th>1941</th>\n",
       "      <td>Global Warming Dent's El Ni'o's Protective Shi...</td>\n",
       "      <td>7</td>\n",
       "    </tr>\n",
       "    <tr>\n",
       "      <th>1799</th>\n",
       "      <td>Foes of California's global warming law pour m...</td>\n",
       "      <td>6</td>\n",
       "    </tr>\n",
       "    <tr>\n",
       "      <th>1351</th>\n",
       "      <td>Coalition of the Tired of Waiting: Fighting Cl...</td>\n",
       "      <td>6</td>\n",
       "    </tr>\n",
       "    <tr>\n",
       "      <th>4271</th>\n",
       "      <td>SCIENCE: Scientists explore the evolution of c...</td>\n",
       "      <td>6</td>\n",
       "    </tr>\n",
       "    <tr>\n",
       "      <th>1040</th>\n",
       "      <td>Carbon offsets: How a Vatican forest failed to...</td>\n",
       "      <td>6</td>\n",
       "    </tr>\n",
       "  </tbody>\n",
       "</table>\n",
       "</div>"
      ],
      "text/plain": [
       "                                                  tweet  counts\n",
       "3131  No matter if you believe in global warming or ...      20\n",
       "4555  Take Action @change: Help Protect Wildlife Hab...      14\n",
       "4027  RT @newtgingrich: Historic snow storm in washi...       9\n",
       "1765       Fight Climate Change From All Fronts: [link]       8\n",
       "1626  Earth's polar ice sheets vulnerable to even mo...       7\n",
       "1941  Global Warming Dent's El Ni'o's Protective Shi...       7\n",
       "1799  Foes of California's global warming law pour m...       6\n",
       "1351  Coalition of the Tired of Waiting: Fighting Cl...       6\n",
       "4271  SCIENCE: Scientists explore the evolution of c...       6\n",
       "1040  Carbon offsets: How a Vatican forest failed to...       6"
      ]
     },
     "execution_count": 53,
     "metadata": {},
     "output_type": "execute_result"
    }
   ],
   "source": [
    "# 10 most repeated tweets\n",
    "df.groupby(['tweet']).size().reset_index(name='counts')\\\n",
    "  .sort_values('counts', ascending=False).head(10)"
   ]
  },
  {
   "cell_type": "code",
   "execution_count": 54,
   "metadata": {},
   "outputs": [
    {
     "data": {
      "image/png": "[encoded data removed]",
      "text/plain": [
       "<Figure size 432x288 with 1 Axes>"
      ]
     },
     "metadata": {
      "needs_background": "light"
     },
     "output_type": "display_data"
    }
   ],
   "source": [
    "# number of times each tweet appears\n",
    "counts = df.groupby(['tweet']).size()\\\n",
    "           .reset_index(name='counts')\\\n",
    "           .counts\n",
    "\n",
    "# define bins for histogram\n",
    "my_bins = np.arange(0,counts.max()+2, 1)-0.5\n",
    "\n",
    "# plot histogram of tweet counts\n",
    "plt.figure()\n",
    "plt.hist(counts, bins = my_bins)\n",
    "plt.xlabels = np.arange(1,counts.max()+1, 1)\n",
    "plt.xlabel('copies of each tweet')\n",
    "plt.ylabel('frequency')\n",
    "plt.yscale('log', nonposy='clip')\n",
    "plt.show()"
   ]
  },
  {
   "cell_type": "markdown",
   "metadata": {},
   "source": [
    "#### **Extracting substrings with regular expressions**"
   ]
  },
  {
   "cell_type": "code",
   "execution_count": 55,
   "metadata": {},
   "outputs": [],
   "source": [
    "def find_retweeted(tweet):\n",
    "    '''This function will extract the twitter handles of retweed people'''\n",
    "    return re.findall('(?<=RT\\s)(@[A-Za-z]+[A-Za-z0-9-_]+)', tweet)\n",
    "\n",
    "def find_mentioned(tweet):\n",
    "    '''This function will extract the twitter handles of people mentioned in the tweet'''\n",
    "    return re.findall('(?<!RT\\s)(@[A-Za-z]+[A-Za-z0-9-_]+)', tweet)  \n",
    "\n",
    "def find_hashtags(tweet):\n",
    "    '''This function will extract hashtags'''\n",
    "    return re.findall('(#[A-Za-z]+[A-Za-z0-9-_]+)', tweet)   "
   ]
  },
  {
   "cell_type": "code",
   "execution_count": 57,
   "metadata": {},
   "outputs": [],
   "source": [
    "# two sample tweets\n",
    "my_tweet = 'RT @our_codingclub: Can @you find #all the #hashtags?'\n",
    "my_other_tweet = 'Not a retweet. All views @my own'"
   ]
  },
  {
   "cell_type": "code",
   "execution_count": 58,
   "metadata": {},
   "outputs": [],
   "source": [
    "# make new columns for retweeted usernames, mentioned usernames and hashtags\n",
    "df['retweeted'] = df.tweet.apply(find_retweeted)\n",
    "df['mentioned'] = df.tweet.apply(find_mentioned)\n",
    "df['hashtags'] = df.tweet.apply(find_hashtags)"
   ]
  },
  {
   "cell_type": "markdown",
   "metadata": {},
   "source": [
    "#### **Keyword Correlations in Text**"
   ]
  },
  {
   "cell_type": "code",
   "execution_count": 59,
   "metadata": {},
   "outputs": [],
   "source": [
    "# take the rows from the hashtag columns where there are actually hashtags\n",
    "hashtags_list_df = df.loc[\n",
    "                       df.hashtags.apply(\n",
    "                           lambda hashtags_list: hashtags_list !=[]\n",
    "                       ),['hashtags']]"
   ]
  },
  {
   "cell_type": "code",
   "execution_count": 60,
   "metadata": {},
   "outputs": [],
   "source": [
    "# create dataframe where each use of hashtag gets its own row\n",
    "flattened_hashtags_df = pd.DataFrame(\n",
    "    [hashtag for hashtags_list in hashtags_list_df.hashtags\n",
    "    for hashtag in hashtags_list],\n",
    "    columns=['hashtag'])"
   ]
  },
  {
   "cell_type": "code",
   "execution_count": 61,
   "metadata": {},
   "outputs": [
    {
     "data": {
      "text/html": [
       "<div>\n",
       "<style scoped>\n",
       "    .dataframe tbody tr th:only-of-type {\n",
       "        vertical-align: middle;\n",
       "    }\n",
       "\n",
       "    .dataframe tbody tr th {\n",
       "        vertical-align: top;\n",
       "    }\n",
       "\n",
       "    .dataframe thead th {\n",
       "        text-align: right;\n",
       "    }\n",
       "</style>\n",
       "<table border=\"1\" class=\"dataframe\">\n",
       "  <thead>\n",
       "    <tr style=\"text-align: right;\">\n",
       "      <th></th>\n",
       "      <th>hashtag</th>\n",
       "    </tr>\n",
       "  </thead>\n",
       "  <tbody>\n",
       "    <tr>\n",
       "      <th>0</th>\n",
       "      <td>#Climate</td>\n",
       "    </tr>\n",
       "    <tr>\n",
       "      <th>1</th>\n",
       "      <td>#population</td>\n",
       "    </tr>\n",
       "    <tr>\n",
       "      <th>2</th>\n",
       "      <td>#EarthDay</td>\n",
       "    </tr>\n",
       "    <tr>\n",
       "      <th>3</th>\n",
       "      <td>#ac</td>\n",
       "    </tr>\n",
       "    <tr>\n",
       "      <th>4</th>\n",
       "      <td>#tcot</td>\n",
       "    </tr>\n",
       "    <tr>\n",
       "      <th>...</th>\n",
       "      <td>...</td>\n",
       "    </tr>\n",
       "    <tr>\n",
       "      <th>2062</th>\n",
       "      <td>#IPCC</td>\n",
       "    </tr>\n",
       "    <tr>\n",
       "      <th>2063</th>\n",
       "      <td>#ocra</td>\n",
       "    </tr>\n",
       "    <tr>\n",
       "      <th>2064</th>\n",
       "      <td>#tcot</td>\n",
       "    </tr>\n",
       "    <tr>\n",
       "      <th>2065</th>\n",
       "      <td>#p2</td>\n",
       "    </tr>\n",
       "    <tr>\n",
       "      <th>2066</th>\n",
       "      <td>#climategate</td>\n",
       "    </tr>\n",
       "  </tbody>\n",
       "</table>\n",
       "<p>2067 rows × 1 columns</p>\n",
       "</div>"
      ],
      "text/plain": [
       "           hashtag\n",
       "0         #Climate\n",
       "1      #population\n",
       "2        #EarthDay\n",
       "3              #ac\n",
       "4            #tcot\n",
       "...            ...\n",
       "2062         #IPCC\n",
       "2063         #ocra\n",
       "2064         #tcot\n",
       "2065           #p2\n",
       "2066  #climategate\n",
       "\n",
       "[2067 rows x 1 columns]"
      ]
     },
     "execution_count": 61,
     "metadata": {},
     "output_type": "execute_result"
    }
   ],
   "source": [
    "flattened_hashtags_df"
   ]
  },
  {
   "cell_type": "code",
   "execution_count": 62,
   "metadata": {},
   "outputs": [
    {
     "data": {
      "text/plain": [
       "477"
      ]
     },
     "execution_count": 62,
     "metadata": {},
     "output_type": "execute_result"
    }
   ],
   "source": [
    "# number of unique hashtags\n",
    "flattened_hashtags_df['hashtag'].unique().size"
   ]
  },
  {
   "cell_type": "code",
   "execution_count": 63,
   "metadata": {},
   "outputs": [],
   "source": [
    "# count of appearances of each hashtag\n",
    "popular_hashtags = flattened_hashtags_df.groupby('hashtag').size()\\\n",
    "                                        .reset_index(name='counts')\\\n",
    "                                        .sort_values('counts', ascending=False)\\\n",
    "                                        .reset_index(drop=True)"
   ]
  },
  {
   "cell_type": "code",
   "execution_count": 64,
   "metadata": {},
   "outputs": [
    {
     "data": {
      "image/png": "[encoded data removed]",
      "text/plain": [
       "<Figure size 432x288 with 1 Axes>"
      ]
     },
     "metadata": {
      "needs_background": "light"
     },
     "output_type": "display_data"
    }
   ],
   "source": [
    "# number of times each hashtag appears\n",
    "counts = flattened_hashtags_df.groupby(['hashtag']).size()\\\n",
    "                              .reset_index(name='counts')\\\n",
    "                              .counts\n",
    "\n",
    "# define bins for histogram                              \n",
    "my_bins = np.arange(0,counts.max()+2, 5)-0.5\n",
    "\n",
    "# plot histogram of tweet counts\n",
    "plt.figure()\n",
    "plt.hist(counts, bins = my_bins)\n",
    "plt.xlabels = np.arange(1,counts.max()+1, 1)\n",
    "plt.xlabel('hashtag number of appearances')\n",
    "plt.ylabel('frequency')\n",
    "plt.yscale('log', nonposy='clip')\n",
    "plt.show()"
   ]
  },
  {
   "cell_type": "markdown",
   "metadata": {},
   "source": [
    "#### **From Text to Vector**"
   ]
  },
  {
   "cell_type": "code",
   "execution_count": 65,
   "metadata": {},
   "outputs": [],
   "source": [
    "# take hashtags which appear at least this amount of times\n",
    "min_appearance = 10\n",
    "# find popular hashtags - make into python set for efficiency\n",
    "popular_hashtags_set = set(popular_hashtags[\n",
    "                           popular_hashtags.counts>=min_appearance\n",
    "                           ]['hashtag'])"
   ]
  },
  {
   "cell_type": "code",
   "execution_count": 66,
   "metadata": {},
   "outputs": [],
   "source": [
    "# make a new column with only the popular hashtags\n",
    "hashtags_list_df['popular_hashtags'] = hashtags_list_df.hashtags.apply(\n",
    "            lambda hashtag_list: [hashtag for hashtag in hashtag_list\n",
    "                                  if hashtag in popular_hashtags_set])\n",
    "# drop rows without popular hashtag\n",
    "popular_hashtags_list_df = hashtags_list_df.loc[\n",
    "            hashtags_list_df.popular_hashtags.apply(lambda hashtag_list: hashtag_list !=[])]\n"
   ]
  },
  {
   "cell_type": "code",
   "execution_count": 67,
   "metadata": {},
   "outputs": [],
   "source": [
    "# make new dataframe\n",
    "hashtag_vector_df = popular_hashtags_list_df.loc[:, ['popular_hashtags']]\n",
    "\n",
    "for hashtag in popular_hashtags_set:\n",
    "    # make columns to encode presence of hashtags\n",
    "    hashtag_vector_df['{}'.format(hashtag)] = hashtag_vector_df.popular_hashtags.apply(\n",
    "        lambda hashtag_list: int(hashtag in hashtag_list))"
   ]
  },
  {
   "cell_type": "code",
   "execution_count": 70,
   "metadata": {},
   "outputs": [
    {
     "data": {
      "image/png": "[encoded data removed]",
      "text/plain": [
       "<Figure size 720x720 with 2 Axes>"
      ]
     },
     "metadata": {
      "needs_background": "light"
     },
     "output_type": "display_data"
    }
   ],
   "source": [
    "hashtag_matrix = hashtag_vector_df.drop('popular_hashtags', axis=1)\n",
    "\n",
    "# calculate the correlation matrix\n",
    "correlations = hashtag_matrix.corr()\n",
    "\n",
    "# plot the correlation matrix\n",
    "plt.figure(figsize=(10,10))\n",
    "sns.heatmap(correlations,\n",
    "    cmap='RdBu',\n",
    "    vmin=-1,\n",
    "    vmax=1,\n",
    "    square = True,\n",
    "    cbar_kws={'label':'correlation'})\n",
    "plt.show()"
   ]
  },
  {
   "cell_type": "markdown",
   "metadata": {},
   "source": [
    "#### **Cleaning Unstructured Text Data**"
   ]
  },
  {
   "cell_type": "code",
   "execution_count": 72,
   "metadata": {},
   "outputs": [],
   "source": [
    "def remove_links(tweet):\n",
    "    '''Takes a string and removes web links from it'''\n",
    "    tweet = re.sub(r'http\\S+', '', tweet) # remove http links\n",
    "    tweet = re.sub(r'bit.ly/\\S+', '', tweet) # rempve bitly links\n",
    "    tweet = tweet.strip('[link]') # remove [links]\n",
    "    return tweet\n",
    "\n",
    "def remove_users(tweet):\n",
    "    '''Takes a string and removes retweet and @user information'''\n",
    "    tweet = re.sub('(RT\\s@[A-Za-z]+[A-Za-z0-9-_]+)', '', tweet) # remove retweet\n",
    "    tweet = re.sub('(@[A-Za-z]+[A-Za-z0-9-_]+)', '', tweet) # remove tweeted at\n",
    "    return tweet"
   ]
  },
  {
   "cell_type": "code",
   "execution_count": 73,
   "metadata": {},
   "outputs": [],
   "source": [
    "my_stopwords = nltk.corpus.stopwords.words('english')\n",
    "word_rooter = nltk.stem.snowball.PorterStemmer(ignore_stopwords=False).stem\n",
    "my_punctuation = '!\"$%&\\'()*+,-./:;<=>?[\\\\]^_`{|}~•@'\n",
    "\n",
    "# cleaning master function\n",
    "def clean_tweet(tweet, bigrams=False):\n",
    "    tweet = remove_users(tweet)\n",
    "    tweet = remove_links(tweet)\n",
    "    tweet = tweet.lower() # lower case\n",
    "    tweet = re.sub('['+my_punctuation + ']+', ' ', tweet) # strip punctuation\n",
    "    tweet = re.sub('\\s+', ' ', tweet) #remove double spacing\n",
    "    tweet = re.sub('([0-9]+)', '', tweet) # remove numbers\n",
    "    tweet_token_list = [word for word in tweet.split(' ')\n",
    "                            if word not in my_stopwords] # remove stopwords\n",
    "\n",
    "    tweet_token_list = [word_rooter(word) if '#' not in word else word\n",
    "                        for word in tweet_token_list] # apply word rooter\n",
    "    if bigrams:\n",
    "        tweet_token_list = tweet_token_list+[tweet_token_list[i]+'_'+tweet_token_list[i+1]\n",
    "                                            for i in range(len(tweet_token_list)-1)]\n",
    "    tweet = ' '.join(tweet_token_list)\n",
    "    return tweet"
   ]
  },
  {
   "cell_type": "code",
   "execution_count": 74,
   "metadata": {},
   "outputs": [],
   "source": [
    "df['clean_tweet'] = df.tweet.apply(clean_tweet)"
   ]
  },
  {
   "cell_type": "markdown",
   "metadata": {},
   "source": [
    "## **Applying Topic Modelling**"
   ]
  },
  {
   "cell_type": "code",
   "execution_count": 76,
   "metadata": {},
   "outputs": [],
   "source": [
    "# the vectorizer object will be used to transform text to vector form\n",
    "vectorizer = CountVectorizer(max_df=0.9, min_df=25, token_pattern='\\w+|\\$[\\d\\.]+|\\S+')\n",
    "\n",
    "# apply transformation\n",
    "tf = vectorizer.fit_transform(df['clean_tweet']).toarray()\n",
    "\n",
    "# tf_feature_names tells us what word each column in the matric represents\n",
    "tf_feature_names = vectorizer.get_feature_names()"
   ]
  },
  {
   "cell_type": "code",
   "execution_count": 78,
   "metadata": {},
   "outputs": [],
   "source": [
    "number_of_topics = 10\n",
    "\n",
    "model = LatentDirichletAllocation(n_components=number_of_topics, random_state=0)"
   ]
  },
  {
   "cell_type": "code",
   "execution_count": 79,
   "metadata": {},
   "outputs": [
    {
     "data": {
      "text/plain": [
       "LatentDirichletAllocation(random_state=0)"
      ]
     },
     "execution_count": 79,
     "metadata": {},
     "output_type": "execute_result"
    }
   ],
   "source": [
    "model.fit(tf)"
   ]
  },
  {
   "cell_type": "code",
   "execution_count": 80,
   "metadata": {},
   "outputs": [],
   "source": [
    "def display_topics(model, feature_names, no_top_words):\n",
    "    topic_dict = {}\n",
    "    for topic_idx, topic in enumerate(model.components_):\n",
    "        topic_dict[\"Topic %d words\" % (topic_idx)]= ['{}'.format(feature_names[i])\n",
    "                        for i in topic.argsort()[:-no_top_words - 1:-1]]\n",
    "        topic_dict[\"Topic %d weights\" % (topic_idx)]= ['{:.1f}'.format(topic[i])\n",
    "                        for i in topic.argsort()[:-no_top_words - 1:-1]]\n",
    "    return pd.DataFrame(topic_dict)"
   ]
  },
  {
   "cell_type": "code",
   "execution_count": 81,
   "metadata": {},
   "outputs": [
    {
     "data": {
      "text/html": [
       "<div>\n",
       "<style scoped>\n",
       "    .dataframe tbody tr th:only-of-type {\n",
       "        vertical-align: middle;\n",
       "    }\n",
       "\n",
       "    .dataframe tbody tr th {\n",
       "        vertical-align: top;\n",
       "    }\n",
       "\n",
       "    .dataframe thead th {\n",
       "        text-align: right;\n",
       "    }\n",
       "</style>\n",
       "<table border=\"1\" class=\"dataframe\">\n",
       "  <thead>\n",
       "    <tr style=\"text-align: right;\">\n",
       "      <th></th>\n",
       "      <th>Topic 0 words</th>\n",
       "      <th>Topic 0 weights</th>\n",
       "      <th>Topic 1 words</th>\n",
       "      <th>Topic 1 weights</th>\n",
       "      <th>Topic 2 words</th>\n",
       "      <th>Topic 2 weights</th>\n",
       "      <th>Topic 3 words</th>\n",
       "      <th>Topic 3 weights</th>\n",
       "      <th>Topic 4 words</th>\n",
       "      <th>Topic 4 weights</th>\n",
       "      <th>Topic 5 words</th>\n",
       "      <th>Topic 5 weights</th>\n",
       "      <th>Topic 6 words</th>\n",
       "      <th>Topic 6 weights</th>\n",
       "      <th>Topic 7 words</th>\n",
       "      <th>Topic 7 weights</th>\n",
       "      <th>Topic 8 words</th>\n",
       "      <th>Topic 8 weights</th>\n",
       "      <th>Topic 9 words</th>\n",
       "      <th>Topic 9 weights</th>\n",
       "    </tr>\n",
       "  </thead>\n",
       "  <tbody>\n",
       "    <tr>\n",
       "      <th>0</th>\n",
       "      <td>climat</td>\n",
       "      <td>1220.2</td>\n",
       "      <td>global</td>\n",
       "      <td>666.5</td>\n",
       "      <td>global</td>\n",
       "      <td>1147.2</td>\n",
       "      <td>global</td>\n",
       "      <td>473.1</td>\n",
       "      <td>climat</td>\n",
       "      <td>422.0</td>\n",
       "      <td>global</td>\n",
       "      <td>783.0</td>\n",
       "      <td>chang</td>\n",
       "      <td>666.1</td>\n",
       "      <td>warm</td>\n",
       "      <td>167.9</td>\n",
       "      <td>climat</td>\n",
       "      <td>568.3</td>\n",
       "      <td>climat</td>\n",
       "      <td>529.9</td>\n",
       "    </tr>\n",
       "    <tr>\n",
       "      <th>1</th>\n",
       "      <td>chang</td>\n",
       "      <td>1184.5</td>\n",
       "      <td>warm</td>\n",
       "      <td>658.1</td>\n",
       "      <td>warm</td>\n",
       "      <td>1102.1</td>\n",
       "      <td>warm</td>\n",
       "      <td>450.7</td>\n",
       "      <td>chang</td>\n",
       "      <td>401.8</td>\n",
       "      <td>warm</td>\n",
       "      <td>764.7</td>\n",
       "      <td>climat</td>\n",
       "      <td>661.6</td>\n",
       "      <td>#climate</td>\n",
       "      <td>139.2</td>\n",
       "      <td>chang</td>\n",
       "      <td>550.5</td>\n",
       "      <td>chang</td>\n",
       "      <td>520.6</td>\n",
       "    </tr>\n",
       "    <tr>\n",
       "      <th>2</th>\n",
       "      <td>via</td>\n",
       "      <td>257.9</td>\n",
       "      <td>snow</td>\n",
       "      <td>160.5</td>\n",
       "      <td>scientist</td>\n",
       "      <td>150.2</td>\n",
       "      <td>believ</td>\n",
       "      <td>101.3</td>\n",
       "      <td>legisl</td>\n",
       "      <td>123.2</td>\n",
       "      <td>gore</td>\n",
       "      <td>137.1</td>\n",
       "      <td>energi</td>\n",
       "      <td>178.8</td>\n",
       "      <td>volcano</td>\n",
       "      <td>128.9</td>\n",
       "      <td>new</td>\n",
       "      <td>321.1</td>\n",
       "      <td>peopl</td>\n",
       "      <td>153.4</td>\n",
       "    </tr>\n",
       "    <tr>\n",
       "      <th>3</th>\n",
       "      <td>scienc</td>\n",
       "      <td>112.9</td>\n",
       "      <td>#tcot</td>\n",
       "      <td>121.6</td>\n",
       "      <td>say</td>\n",
       "      <td>87.1</td>\n",
       "      <td>california</td>\n",
       "      <td>87.1</td>\n",
       "      <td>us</td>\n",
       "      <td>105.1</td>\n",
       "      <td>snow</td>\n",
       "      <td>123.7</td>\n",
       "      <td>u</td>\n",
       "      <td>109.8</td>\n",
       "      <td>global</td>\n",
       "      <td>128.6</td>\n",
       "      <td>bill</td>\n",
       "      <td>116.9</td>\n",
       "      <td>world</td>\n",
       "      <td>151.3</td>\n",
       "    </tr>\n",
       "    <tr>\n",
       "      <th>4</th>\n",
       "      <td>news</td>\n",
       "      <td>79.5</td>\n",
       "      <td>like</td>\n",
       "      <td>99.0</td>\n",
       "      <td>scienc</td>\n",
       "      <td>71.7</td>\n",
       "      <td>blame</td>\n",
       "      <td>82.1</td>\n",
       "      <td>via</td>\n",
       "      <td>60.5</td>\n",
       "      <td>al</td>\n",
       "      <td>122.1</td>\n",
       "      <td>via</td>\n",
       "      <td>96.5</td>\n",
       "      <td>chang</td>\n",
       "      <td>122.0</td>\n",
       "      <td>senat</td>\n",
       "      <td>106.1</td>\n",
       "      <td>confer</td>\n",
       "      <td>110.1</td>\n",
       "    </tr>\n",
       "    <tr>\n",
       "      <th>5</th>\n",
       "      <td>day</td>\n",
       "      <td>77.8</td>\n",
       "      <td>blizzard</td>\n",
       "      <td>90.9</td>\n",
       "      <td>debat</td>\n",
       "      <td>66.6</td>\n",
       "      <td>law</td>\n",
       "      <td>78.6</td>\n",
       "      <td>say</td>\n",
       "      <td>55.9</td>\n",
       "      <td>great</td>\n",
       "      <td>94.1</td>\n",
       "      <td>nation</td>\n",
       "      <td>89.0</td>\n",
       "      <td>help</td>\n",
       "      <td>114.1</td>\n",
       "      <td>agenc</td>\n",
       "      <td>95.1</td>\n",
       "      <td>bill</td>\n",
       "      <td>106.4</td>\n",
       "    </tr>\n",
       "    <tr>\n",
       "      <th>6</th>\n",
       "      <td>earth</td>\n",
       "      <td>68.2</td>\n",
       "      <td>dc</td>\n",
       "      <td>86.5</td>\n",
       "      <td>man</td>\n",
       "      <td>61.1</td>\n",
       "      <td>report</td>\n",
       "      <td>77.8</td>\n",
       "      <td>video</td>\n",
       "      <td>55.9</td>\n",
       "      <td>cold</td>\n",
       "      <td>77.1</td>\n",
       "      <td>make</td>\n",
       "      <td>74.5</td>\n",
       "      <td>take</td>\n",
       "      <td>96.8</td>\n",
       "      <td>immigr</td>\n",
       "      <td>77.7</td>\n",
       "      <td>talk</td>\n",
       "      <td>94.8</td>\n",
       "    </tr>\n",
       "    <tr>\n",
       "      <th>7</th>\n",
       "      <td>trial</td>\n",
       "      <td>68.1</td>\n",
       "      <td>think</td>\n",
       "      <td>83.3</td>\n",
       "      <td>made</td>\n",
       "      <td>54.0</td>\n",
       "      <td>save</td>\n",
       "      <td>61.8</td>\n",
       "      <td>place</td>\n",
       "      <td>54.1</td>\n",
       "      <td>call</td>\n",
       "      <td>76.5</td>\n",
       "      <td>impact</td>\n",
       "      <td>67.5</td>\n",
       "      <td>climat</td>\n",
       "      <td>76.7</td>\n",
       "      <td>obama</td>\n",
       "      <td>75.6</td>\n",
       "      <td>graham</td>\n",
       "      <td>92.1</td>\n",
       "    </tr>\n",
       "    <tr>\n",
       "      <th>8</th>\n",
       "      <td>clinic</td>\n",
       "      <td>68.1</td>\n",
       "      <td>due</td>\n",
       "      <td>80.1</td>\n",
       "      <td>show</td>\n",
       "      <td>51.9</td>\n",
       "      <td>money</td>\n",
       "      <td>56.1</td>\n",
       "      <td>good</td>\n",
       "      <td>52.6</td>\n",
       "      <td>#tcot</td>\n",
       "      <td>75.3</td>\n",
       "      <td>report</td>\n",
       "      <td>63.4</td>\n",
       "      <td>iceland</td>\n",
       "      <td>67.1</td>\n",
       "      <td>feder</td>\n",
       "      <td>67.1</td>\n",
       "      <td>un</td>\n",
       "      <td>77.6</td>\n",
       "    </tr>\n",
       "    <tr>\n",
       "      <th>9</th>\n",
       "      <td>carbon</td>\n",
       "      <td>64.5</td>\n",
       "      <td>make</td>\n",
       "      <td>70.4</td>\n",
       "      <td>water</td>\n",
       "      <td>50.6</td>\n",
       "      <td>live</td>\n",
       "      <td>49.3</td>\n",
       "      <td>human</td>\n",
       "      <td>48.2</td>\n",
       "      <td>one</td>\n",
       "      <td>72.1</td>\n",
       "      <td>issu</td>\n",
       "      <td>58.8</td>\n",
       "      <td>could</td>\n",
       "      <td>64.5</td>\n",
       "      <td>via</td>\n",
       "      <td>58.6</td>\n",
       "      <td>put</td>\n",
       "      <td>68.8</td>\n",
       "    </tr>\n",
       "  </tbody>\n",
       "</table>\n",
       "</div>"
      ],
      "text/plain": [
       "  Topic 0 words Topic 0 weights Topic 1 words Topic 1 weights Topic 2 words  \\\n",
       "0        climat          1220.2        global           666.5        global   \n",
       "1         chang          1184.5          warm           658.1          warm   \n",
       "2           via           257.9          snow           160.5     scientist   \n",
       "3        scienc           112.9         #tcot           121.6           say   \n",
       "4          news            79.5          like            99.0        scienc   \n",
       "5           day            77.8      blizzard            90.9         debat   \n",
       "6         earth            68.2            dc            86.5           man   \n",
       "7         trial            68.1         think            83.3          made   \n",
       "8        clinic            68.1           due            80.1          show   \n",
       "9        carbon            64.5          make            70.4         water   \n",
       "\n",
       "  Topic 2 weights Topic 3 words Topic 3 weights Topic 4 words Topic 4 weights  \\\n",
       "0          1147.2        global           473.1        climat           422.0   \n",
       "1          1102.1          warm           450.7         chang           401.8   \n",
       "2           150.2        believ           101.3        legisl           123.2   \n",
       "3            87.1    california            87.1            us           105.1   \n",
       "4            71.7         blame            82.1           via            60.5   \n",
       "5            66.6           law            78.6           say            55.9   \n",
       "6            61.1        report            77.8         video            55.9   \n",
       "7            54.0          save            61.8         place            54.1   \n",
       "8            51.9         money            56.1          good            52.6   \n",
       "9            50.6          live            49.3         human            48.2   \n",
       "\n",
       "  Topic 5 words Topic 5 weights Topic 6 words Topic 6 weights Topic 7 words  \\\n",
       "0        global           783.0         chang           666.1          warm   \n",
       "1          warm           764.7        climat           661.6      #climate   \n",
       "2          gore           137.1        energi           178.8       volcano   \n",
       "3          snow           123.7             u           109.8        global   \n",
       "4            al           122.1           via            96.5         chang   \n",
       "5         great            94.1        nation            89.0          help   \n",
       "6          cold            77.1          make            74.5          take   \n",
       "7          call            76.5        impact            67.5        climat   \n",
       "8         #tcot            75.3        report            63.4       iceland   \n",
       "9           one            72.1          issu            58.8         could   \n",
       "\n",
       "  Topic 7 weights Topic 8 words Topic 8 weights Topic 9 words Topic 9 weights  \n",
       "0           167.9        climat           568.3        climat           529.9  \n",
       "1           139.2         chang           550.5         chang           520.6  \n",
       "2           128.9           new           321.1         peopl           153.4  \n",
       "3           128.6          bill           116.9         world           151.3  \n",
       "4           122.0         senat           106.1        confer           110.1  \n",
       "5           114.1         agenc            95.1          bill           106.4  \n",
       "6            96.8        immigr            77.7          talk            94.8  \n",
       "7            76.7         obama            75.6        graham            92.1  \n",
       "8            67.1         feder            67.1            un            77.6  \n",
       "9            64.5           via            58.6           put            68.8  "
      ]
     },
     "execution_count": 81,
     "metadata": {},
     "output_type": "execute_result"
    }
   ],
   "source": [
    "no_top_words = 10\n",
    "display_topics(model, tf_feature_names, no_top_words)"
   ]
  },
  {
   "cell_type": "code",
   "execution_count": null,
   "metadata": {},
   "outputs": [],
   "source": []
  }
 ],
 "metadata": {
  "kernelspec": {
   "display_name": "Python 3",
   "language": "python",
   "name": "python3"
  },
  "language_info": {
   "codemirror_mode": {
    "name": "ipython",
    "version": 3
   },
   "file_extension": ".py",
   "mimetype": "text/x-python",
   "name": "python",
   "nbconvert_exporter": "python",
   "pygments_lexer": "ipython3",
   "version": "3.8.5"
  }
 },
 "nbformat": 4,
 "nbformat_minor": 4
}
